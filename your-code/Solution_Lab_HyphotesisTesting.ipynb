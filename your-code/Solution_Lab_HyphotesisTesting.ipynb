{
 "cells": [
  {
   "cell_type": "markdown",
   "metadata": {
    "id": "xjI20x84zSx2"
   },
   "source": [
    "# Before you start:\n",
    "- Read the README.md file\n",
    "- Comment as much as you can and use the resources (README.md file)\n",
    "- Happy learning!"
   ]
  },
  {
   "cell_type": "code",
   "execution_count": 1,
   "metadata": {
    "id": "PIKv798RzSx6"
   },
   "outputs": [],
   "source": [
    "import pandas as pd\n",
    "import numpy as np\n",
    "import os\n",
    "from IPython.display import display"
   ]
  },
  {
   "cell_type": "markdown",
   "metadata": {
    "id": "GvMX-v1TzSx7"
   },
   "source": [
    "# Challenge 1 - Exploring the Data\n",
    "\n",
    "In this challenge, we will examine all salaries of employees of the San Francisco. We will start by loading the dataset and examining its contents. "
   ]
  },
  {
   "cell_type": "code",
   "execution_count": 2,
   "metadata": {
    "colab": {
     "base_uri": "https://localhost:8080/"
    },
    "id": "jx8dpv-xzSx8",
    "outputId": "c1a35f3c-afb6-4b20-d774-06bbdca465ea"
   },
   "outputs": [],
   "source": [
    "data = pd.read_csv('/Users/florgarciaortiz/IRONHACK/Week_4/Day_3/Morning/lab-Hypothesis-Testing/data/Salaries.csv', low_memory = False)\n"
   ]
  },
  {
   "cell_type": "markdown",
   "metadata": {
    "id": "28njElH1zSx9"
   },
   "source": [
    "Examine the `salaries` dataset using the `head` function below."
   ]
  },
  {
   "cell_type": "code",
   "execution_count": 3,
   "metadata": {},
   "outputs": [
    {
     "data": {
      "text/html": [
       "<div>\n",
       "<style scoped>\n",
       "    .dataframe tbody tr th:only-of-type {\n",
       "        vertical-align: middle;\n",
       "    }\n",
       "\n",
       "    .dataframe tbody tr th {\n",
       "        vertical-align: top;\n",
       "    }\n",
       "\n",
       "    .dataframe thead th {\n",
       "        text-align: right;\n",
       "    }\n",
       "</style>\n",
       "<table border=\"1\" class=\"dataframe\">\n",
       "  <thead>\n",
       "    <tr style=\"text-align: right;\">\n",
       "      <th></th>\n",
       "      <th>Id</th>\n",
       "      <th>EmployeeName</th>\n",
       "      <th>JobTitle</th>\n",
       "      <th>BasePay</th>\n",
       "      <th>OvertimePay</th>\n",
       "      <th>OtherPay</th>\n",
       "      <th>Benefits</th>\n",
       "      <th>TotalPay</th>\n",
       "      <th>TotalPayBenefits</th>\n",
       "      <th>Year</th>\n",
       "      <th>Notes</th>\n",
       "      <th>Agency</th>\n",
       "      <th>Status</th>\n",
       "    </tr>\n",
       "  </thead>\n",
       "  <tbody>\n",
       "    <tr>\n",
       "      <th>0</th>\n",
       "      <td>1</td>\n",
       "      <td>NATHANIEL FORD</td>\n",
       "      <td>GENERAL MANAGER-METROPOLITAN TRANSIT AUTHORITY</td>\n",
       "      <td>167411.18</td>\n",
       "      <td>0.0</td>\n",
       "      <td>400184.25</td>\n",
       "      <td>NaN</td>\n",
       "      <td>567595.43</td>\n",
       "      <td>567595.43</td>\n",
       "      <td>2011</td>\n",
       "      <td>NaN</td>\n",
       "      <td>San Francisco</td>\n",
       "      <td>NaN</td>\n",
       "    </tr>\n",
       "    <tr>\n",
       "      <th>1</th>\n",
       "      <td>2</td>\n",
       "      <td>GARY JIMENEZ</td>\n",
       "      <td>CAPTAIN III (POLICE DEPARTMENT)</td>\n",
       "      <td>155966.02</td>\n",
       "      <td>245131.88</td>\n",
       "      <td>137811.38</td>\n",
       "      <td>NaN</td>\n",
       "      <td>538909.28</td>\n",
       "      <td>538909.28</td>\n",
       "      <td>2011</td>\n",
       "      <td>NaN</td>\n",
       "      <td>San Francisco</td>\n",
       "      <td>NaN</td>\n",
       "    </tr>\n",
       "    <tr>\n",
       "      <th>2</th>\n",
       "      <td>3</td>\n",
       "      <td>ALBERT PARDINI</td>\n",
       "      <td>CAPTAIN III (POLICE DEPARTMENT)</td>\n",
       "      <td>212739.13</td>\n",
       "      <td>106088.18</td>\n",
       "      <td>16452.6</td>\n",
       "      <td>NaN</td>\n",
       "      <td>335279.91</td>\n",
       "      <td>335279.91</td>\n",
       "      <td>2011</td>\n",
       "      <td>NaN</td>\n",
       "      <td>San Francisco</td>\n",
       "      <td>NaN</td>\n",
       "    </tr>\n",
       "    <tr>\n",
       "      <th>3</th>\n",
       "      <td>4</td>\n",
       "      <td>CHRISTOPHER CHONG</td>\n",
       "      <td>WIRE ROPE CABLE MAINTENANCE MECHANIC</td>\n",
       "      <td>77916.0</td>\n",
       "      <td>56120.71</td>\n",
       "      <td>198306.9</td>\n",
       "      <td>NaN</td>\n",
       "      <td>332343.61</td>\n",
       "      <td>332343.61</td>\n",
       "      <td>2011</td>\n",
       "      <td>NaN</td>\n",
       "      <td>San Francisco</td>\n",
       "      <td>NaN</td>\n",
       "    </tr>\n",
       "    <tr>\n",
       "      <th>4</th>\n",
       "      <td>5</td>\n",
       "      <td>PATRICK GARDNER</td>\n",
       "      <td>DEPUTY CHIEF OF DEPARTMENT,(FIRE DEPARTMENT)</td>\n",
       "      <td>134401.6</td>\n",
       "      <td>9737.0</td>\n",
       "      <td>182234.59</td>\n",
       "      <td>NaN</td>\n",
       "      <td>326373.19</td>\n",
       "      <td>326373.19</td>\n",
       "      <td>2011</td>\n",
       "      <td>NaN</td>\n",
       "      <td>San Francisco</td>\n",
       "      <td>NaN</td>\n",
       "    </tr>\n",
       "  </tbody>\n",
       "</table>\n",
       "</div>"
      ],
      "text/plain": [
       "   Id       EmployeeName                                        JobTitle  \\\n",
       "0   1     NATHANIEL FORD  GENERAL MANAGER-METROPOLITAN TRANSIT AUTHORITY   \n",
       "1   2       GARY JIMENEZ                 CAPTAIN III (POLICE DEPARTMENT)   \n",
       "2   3     ALBERT PARDINI                 CAPTAIN III (POLICE DEPARTMENT)   \n",
       "3   4  CHRISTOPHER CHONG            WIRE ROPE CABLE MAINTENANCE MECHANIC   \n",
       "4   5    PATRICK GARDNER    DEPUTY CHIEF OF DEPARTMENT,(FIRE DEPARTMENT)   \n",
       "\n",
       "     BasePay OvertimePay   OtherPay Benefits   TotalPay  TotalPayBenefits  \\\n",
       "0  167411.18         0.0  400184.25      NaN  567595.43         567595.43   \n",
       "1  155966.02   245131.88  137811.38      NaN  538909.28         538909.28   \n",
       "2  212739.13   106088.18    16452.6      NaN  335279.91         335279.91   \n",
       "3    77916.0    56120.71   198306.9      NaN  332343.61         332343.61   \n",
       "4   134401.6      9737.0  182234.59      NaN  326373.19         326373.19   \n",
       "\n",
       "   Year  Notes         Agency Status  \n",
       "0  2011    NaN  San Francisco    NaN  \n",
       "1  2011    NaN  San Francisco    NaN  \n",
       "2  2011    NaN  San Francisco    NaN  \n",
       "3  2011    NaN  San Francisco    NaN  \n",
       "4  2011    NaN  San Francisco    NaN  "
      ]
     },
     "execution_count": 3,
     "metadata": {},
     "output_type": "execute_result"
    }
   ],
   "source": [
    "data.head()"
   ]
  },
  {
   "cell_type": "markdown",
   "metadata": {
    "id": "78ppeI4czSx-"
   },
   "source": [
    "We see from looking at the `head` function that there is quite a bit of missing data. Get the amount of missing data in every column"
   ]
  },
  {
   "cell_type": "code",
   "execution_count": 4,
   "metadata": {},
   "outputs": [
    {
     "data": {
      "text/plain": [
       "Id                       0\n",
       "EmployeeName             0\n",
       "JobTitle                 0\n",
       "BasePay                605\n",
       "OvertimePay              0\n",
       "OtherPay                 0\n",
       "Benefits             36159\n",
       "TotalPay                 0\n",
       "TotalPayBenefits         0\n",
       "Year                     0\n",
       "Notes               148654\n",
       "Agency                   0\n",
       "Status              110535\n",
       "dtype: int64"
      ]
     },
     "execution_count": 4,
     "metadata": {},
     "output_type": "execute_result"
    }
   ],
   "source": [
    "data.isna().sum()"
   ]
  },
  {
   "cell_type": "markdown",
   "metadata": {
    "id": "P7_uHi3nzSx_"
   },
   "source": [
    "Get the shape of the dataframe"
   ]
  },
  {
   "cell_type": "code",
   "execution_count": 5,
   "metadata": {},
   "outputs": [
    {
     "data": {
      "text/plain": [
       "(148654, 13)"
      ]
     },
     "metadata": {},
     "output_type": "display_data"
    }
   ],
   "source": [
    "display(data.shape)"
   ]
  },
  {
   "cell_type": "markdown",
   "metadata": {
    "id": "Dvi-WtBNzSyA"
   },
   "source": [
    "Given output of the previous two cells, drop the corresponding column and compute again the amount of missing values."
   ]
  },
  {
   "cell_type": "code",
   "execution_count": 6,
   "metadata": {},
   "outputs": [
    {
     "data": {
      "text/plain": [
       "Id                       0\n",
       "EmployeeName             0\n",
       "JobTitle                 0\n",
       "BasePay                605\n",
       "OvertimePay              0\n",
       "OtherPay                 0\n",
       "Benefits             36159\n",
       "TotalPay                 0\n",
       "TotalPayBenefits         0\n",
       "Year                     0\n",
       "Agency                   0\n",
       "Status              110535\n",
       "dtype: int64"
      ]
     },
     "execution_count": 6,
     "metadata": {},
     "output_type": "execute_result"
    }
   ],
   "source": [
    "data.drop('Notes', axis=1, inplace=True)\n",
    "data.isna().sum()"
   ]
  },
  {
   "cell_type": "markdown",
   "metadata": {
    "id": "wrIJFfY4zSyB"
   },
   "source": [
    "Check out what are the possible values of the column \"Status\"."
   ]
  },
  {
   "cell_type": "code",
   "execution_count": 7,
   "metadata": {},
   "outputs": [
    {
     "data": {
      "text/plain": [
       "array([nan, 'PT', 'FT'], dtype=object)"
      ]
     },
     "execution_count": 7,
     "metadata": {},
     "output_type": "execute_result"
    }
   ],
   "source": [
    "data['Status'].unique()"
   ]
  },
  {
   "cell_type": "markdown",
   "metadata": {
    "id": "s7c1YgwUzSyC"
   },
   "source": [
    "Drop any row with missing values in the \"Status\" column and compute again the number of missing values."
   ]
  },
  {
   "cell_type": "code",
   "execution_count": 8,
   "metadata": {},
   "outputs": [],
   "source": [
    "data.dropna(subset=['Status'], inplace=True)"
   ]
  },
  {
   "cell_type": "code",
   "execution_count": 9,
   "metadata": {
    "id": "RNuimPv6zSyC"
   },
   "outputs": [
    {
     "data": {
      "text/plain": [
       "Id                  0\n",
       "EmployeeName        0\n",
       "JobTitle            0\n",
       "BasePay             0\n",
       "OvertimePay         0\n",
       "OtherPay            0\n",
       "Benefits            0\n",
       "TotalPay            0\n",
       "TotalPayBenefits    0\n",
       "Year                0\n",
       "Agency              0\n",
       "Status              0\n",
       "dtype: int64"
      ]
     },
     "execution_count": 9,
     "metadata": {},
     "output_type": "execute_result"
    }
   ],
   "source": [
    "data.isna().sum()"
   ]
  },
  {
   "cell_type": "markdown",
   "metadata": {
    "id": "rxOUWb9AzSyD"
   },
   "source": [
    "Check out the types of each column and see if they make sense."
   ]
  },
  {
   "cell_type": "code",
   "execution_count": 10,
   "metadata": {},
   "outputs": [
    {
     "name": "stdout",
     "output_type": "stream",
     "text": [
      "<class 'pandas.core.frame.DataFrame'>\n",
      "Int64Index: 38119 entries, 110531 to 148653\n",
      "Data columns (total 12 columns):\n",
      " #   Column            Non-Null Count  Dtype  \n",
      "---  ------            --------------  -----  \n",
      " 0   Id                38119 non-null  int64  \n",
      " 1   EmployeeName      38119 non-null  object \n",
      " 2   JobTitle          38119 non-null  object \n",
      " 3   BasePay           38119 non-null  object \n",
      " 4   OvertimePay       38119 non-null  object \n",
      " 5   OtherPay          38119 non-null  object \n",
      " 6   Benefits          38119 non-null  object \n",
      " 7   TotalPay          38119 non-null  float64\n",
      " 8   TotalPayBenefits  38119 non-null  float64\n",
      " 9   Year              38119 non-null  int64  \n",
      " 10  Agency            38119 non-null  object \n",
      " 11  Status            38119 non-null  object \n",
      "dtypes: float64(2), int64(2), object(8)\n",
      "memory usage: 3.8+ MB\n"
     ]
    }
   ],
   "source": [
    "data.info()"
   ]
  },
  {
   "cell_type": "code",
   "execution_count": 11,
   "metadata": {},
   "outputs": [
    {
     "data": {
      "text/html": [
       "<div>\n",
       "<style scoped>\n",
       "    .dataframe tbody tr th:only-of-type {\n",
       "        vertical-align: middle;\n",
       "    }\n",
       "\n",
       "    .dataframe tbody tr th {\n",
       "        vertical-align: top;\n",
       "    }\n",
       "\n",
       "    .dataframe thead th {\n",
       "        text-align: right;\n",
       "    }\n",
       "</style>\n",
       "<table border=\"1\" class=\"dataframe\">\n",
       "  <thead>\n",
       "    <tr style=\"text-align: right;\">\n",
       "      <th></th>\n",
       "      <th>Id</th>\n",
       "      <th>EmployeeName</th>\n",
       "      <th>JobTitle</th>\n",
       "      <th>BasePay</th>\n",
       "      <th>OvertimePay</th>\n",
       "      <th>OtherPay</th>\n",
       "      <th>Benefits</th>\n",
       "      <th>TotalPay</th>\n",
       "      <th>TotalPayBenefits</th>\n",
       "      <th>Year</th>\n",
       "      <th>Agency</th>\n",
       "      <th>Status</th>\n",
       "    </tr>\n",
       "  </thead>\n",
       "  <tbody>\n",
       "    <tr>\n",
       "      <th>110531</th>\n",
       "      <td>110532</td>\n",
       "      <td>David Shinn</td>\n",
       "      <td>Deputy Chief 3</td>\n",
       "      <td>129150.01</td>\n",
       "      <td>0.00</td>\n",
       "      <td>342802.63</td>\n",
       "      <td>38780.04</td>\n",
       "      <td>471952.64</td>\n",
       "      <td>510732.68</td>\n",
       "      <td>2014</td>\n",
       "      <td>San Francisco</td>\n",
       "      <td>PT</td>\n",
       "    </tr>\n",
       "    <tr>\n",
       "      <th>110532</th>\n",
       "      <td>110533</td>\n",
       "      <td>Amy P Hart</td>\n",
       "      <td>Asst Med Examiner</td>\n",
       "      <td>318835.49</td>\n",
       "      <td>10712.95</td>\n",
       "      <td>60563.54</td>\n",
       "      <td>89540.23</td>\n",
       "      <td>390111.98</td>\n",
       "      <td>479652.21</td>\n",
       "      <td>2014</td>\n",
       "      <td>San Francisco</td>\n",
       "      <td>FT</td>\n",
       "    </tr>\n",
       "    <tr>\n",
       "      <th>110533</th>\n",
       "      <td>110534</td>\n",
       "      <td>William J Coaker Jr.</td>\n",
       "      <td>Chief Investment Officer</td>\n",
       "      <td>257340.00</td>\n",
       "      <td>0.00</td>\n",
       "      <td>82313.70</td>\n",
       "      <td>96570.66</td>\n",
       "      <td>339653.70</td>\n",
       "      <td>436224.36</td>\n",
       "      <td>2014</td>\n",
       "      <td>San Francisco</td>\n",
       "      <td>PT</td>\n",
       "    </tr>\n",
       "    <tr>\n",
       "      <th>110534</th>\n",
       "      <td>110535</td>\n",
       "      <td>Gregory P Suhr</td>\n",
       "      <td>Chief of Police</td>\n",
       "      <td>307450.04</td>\n",
       "      <td>0.00</td>\n",
       "      <td>19266.72</td>\n",
       "      <td>91302.46</td>\n",
       "      <td>326716.76</td>\n",
       "      <td>418019.22</td>\n",
       "      <td>2014</td>\n",
       "      <td>San Francisco</td>\n",
       "      <td>FT</td>\n",
       "    </tr>\n",
       "    <tr>\n",
       "      <th>110535</th>\n",
       "      <td>110536</td>\n",
       "      <td>Joanne M Hayes-White</td>\n",
       "      <td>Chief, Fire Department</td>\n",
       "      <td>302068.00</td>\n",
       "      <td>0.00</td>\n",
       "      <td>24165.44</td>\n",
       "      <td>91201.66</td>\n",
       "      <td>326233.44</td>\n",
       "      <td>417435.10</td>\n",
       "      <td>2014</td>\n",
       "      <td>San Francisco</td>\n",
       "      <td>FT</td>\n",
       "    </tr>\n",
       "  </tbody>\n",
       "</table>\n",
       "</div>"
      ],
      "text/plain": [
       "            Id          EmployeeName                  JobTitle    BasePay  \\\n",
       "110531  110532           David Shinn            Deputy Chief 3  129150.01   \n",
       "110532  110533            Amy P Hart         Asst Med Examiner  318835.49   \n",
       "110533  110534  William J Coaker Jr.  Chief Investment Officer  257340.00   \n",
       "110534  110535        Gregory P Suhr           Chief of Police  307450.04   \n",
       "110535  110536  Joanne M Hayes-White    Chief, Fire Department  302068.00   \n",
       "\n",
       "       OvertimePay   OtherPay  Benefits   TotalPay  TotalPayBenefits  Year  \\\n",
       "110531        0.00  342802.63  38780.04  471952.64         510732.68  2014   \n",
       "110532    10712.95   60563.54  89540.23  390111.98         479652.21  2014   \n",
       "110533        0.00   82313.70  96570.66  339653.70         436224.36  2014   \n",
       "110534        0.00   19266.72  91302.46  326716.76         418019.22  2014   \n",
       "110535        0.00   24165.44  91201.66  326233.44         417435.10  2014   \n",
       "\n",
       "               Agency Status  \n",
       "110531  San Francisco     PT  \n",
       "110532  San Francisco     FT  \n",
       "110533  San Francisco     PT  \n",
       "110534  San Francisco     FT  \n",
       "110535  San Francisco     FT  "
      ]
     },
     "execution_count": 11,
     "metadata": {},
     "output_type": "execute_result"
    }
   ],
   "source": [
    "data.head()"
   ]
  },
  {
   "cell_type": "markdown",
   "metadata": {},
   "source": [
    "BasePay, OvertimePay, OtherPay and Benefits must be numerical variables."
   ]
  },
  {
   "cell_type": "markdown",
   "metadata": {
    "id": "lLEKu7vxzSyE"
   },
   "source": [
    "Do any type conversions and reset the index."
   ]
  },
  {
   "cell_type": "code",
   "execution_count": 12,
   "metadata": {},
   "outputs": [],
   "source": [
    "data = data.astype({'BasePay': 'float64', 'OvertimePay': 'float64', 'OtherPay': 'float64', 'Benefits': 'float64'})\n",
    "data = data.reset_index(drop=True)"
   ]
  },
  {
   "cell_type": "code",
   "execution_count": 13,
   "metadata": {
    "id": "ufFv58v_zSyE"
   },
   "outputs": [
    {
     "data": {
      "text/html": [
       "<div>\n",
       "<style scoped>\n",
       "    .dataframe tbody tr th:only-of-type {\n",
       "        vertical-align: middle;\n",
       "    }\n",
       "\n",
       "    .dataframe tbody tr th {\n",
       "        vertical-align: top;\n",
       "    }\n",
       "\n",
       "    .dataframe thead th {\n",
       "        text-align: right;\n",
       "    }\n",
       "</style>\n",
       "<table border=\"1\" class=\"dataframe\">\n",
       "  <thead>\n",
       "    <tr style=\"text-align: right;\">\n",
       "      <th></th>\n",
       "      <th>Id</th>\n",
       "      <th>EmployeeName</th>\n",
       "      <th>JobTitle</th>\n",
       "      <th>BasePay</th>\n",
       "      <th>OvertimePay</th>\n",
       "      <th>OtherPay</th>\n",
       "      <th>Benefits</th>\n",
       "      <th>TotalPay</th>\n",
       "      <th>TotalPayBenefits</th>\n",
       "      <th>Year</th>\n",
       "      <th>Agency</th>\n",
       "      <th>Status</th>\n",
       "    </tr>\n",
       "  </thead>\n",
       "  <tbody>\n",
       "    <tr>\n",
       "      <th>0</th>\n",
       "      <td>110532</td>\n",
       "      <td>David Shinn</td>\n",
       "      <td>Deputy Chief 3</td>\n",
       "      <td>129150.01</td>\n",
       "      <td>0.00</td>\n",
       "      <td>342802.63</td>\n",
       "      <td>38780.04</td>\n",
       "      <td>471952.64</td>\n",
       "      <td>510732.68</td>\n",
       "      <td>2014</td>\n",
       "      <td>San Francisco</td>\n",
       "      <td>PT</td>\n",
       "    </tr>\n",
       "    <tr>\n",
       "      <th>1</th>\n",
       "      <td>110533</td>\n",
       "      <td>Amy P Hart</td>\n",
       "      <td>Asst Med Examiner</td>\n",
       "      <td>318835.49</td>\n",
       "      <td>10712.95</td>\n",
       "      <td>60563.54</td>\n",
       "      <td>89540.23</td>\n",
       "      <td>390111.98</td>\n",
       "      <td>479652.21</td>\n",
       "      <td>2014</td>\n",
       "      <td>San Francisco</td>\n",
       "      <td>FT</td>\n",
       "    </tr>\n",
       "    <tr>\n",
       "      <th>2</th>\n",
       "      <td>110534</td>\n",
       "      <td>William J Coaker Jr.</td>\n",
       "      <td>Chief Investment Officer</td>\n",
       "      <td>257340.00</td>\n",
       "      <td>0.00</td>\n",
       "      <td>82313.70</td>\n",
       "      <td>96570.66</td>\n",
       "      <td>339653.70</td>\n",
       "      <td>436224.36</td>\n",
       "      <td>2014</td>\n",
       "      <td>San Francisco</td>\n",
       "      <td>PT</td>\n",
       "    </tr>\n",
       "    <tr>\n",
       "      <th>3</th>\n",
       "      <td>110535</td>\n",
       "      <td>Gregory P Suhr</td>\n",
       "      <td>Chief of Police</td>\n",
       "      <td>307450.04</td>\n",
       "      <td>0.00</td>\n",
       "      <td>19266.72</td>\n",
       "      <td>91302.46</td>\n",
       "      <td>326716.76</td>\n",
       "      <td>418019.22</td>\n",
       "      <td>2014</td>\n",
       "      <td>San Francisco</td>\n",
       "      <td>FT</td>\n",
       "    </tr>\n",
       "    <tr>\n",
       "      <th>4</th>\n",
       "      <td>110536</td>\n",
       "      <td>Joanne M Hayes-White</td>\n",
       "      <td>Chief, Fire Department</td>\n",
       "      <td>302068.00</td>\n",
       "      <td>0.00</td>\n",
       "      <td>24165.44</td>\n",
       "      <td>91201.66</td>\n",
       "      <td>326233.44</td>\n",
       "      <td>417435.10</td>\n",
       "      <td>2014</td>\n",
       "      <td>San Francisco</td>\n",
       "      <td>FT</td>\n",
       "    </tr>\n",
       "    <tr>\n",
       "      <th>...</th>\n",
       "      <td>...</td>\n",
       "      <td>...</td>\n",
       "      <td>...</td>\n",
       "      <td>...</td>\n",
       "      <td>...</td>\n",
       "      <td>...</td>\n",
       "      <td>...</td>\n",
       "      <td>...</td>\n",
       "      <td>...</td>\n",
       "      <td>...</td>\n",
       "      <td>...</td>\n",
       "      <td>...</td>\n",
       "    </tr>\n",
       "    <tr>\n",
       "      <th>38114</th>\n",
       "      <td>148646</td>\n",
       "      <td>Carolyn A Wilson</td>\n",
       "      <td>Human Services Technician</td>\n",
       "      <td>0.00</td>\n",
       "      <td>0.00</td>\n",
       "      <td>0.00</td>\n",
       "      <td>0.00</td>\n",
       "      <td>0.00</td>\n",
       "      <td>0.00</td>\n",
       "      <td>2014</td>\n",
       "      <td>San Francisco</td>\n",
       "      <td>PT</td>\n",
       "    </tr>\n",
       "    <tr>\n",
       "      <th>38115</th>\n",
       "      <td>148648</td>\n",
       "      <td>Joann Anderson</td>\n",
       "      <td>Communications Dispatcher 2</td>\n",
       "      <td>0.00</td>\n",
       "      <td>0.00</td>\n",
       "      <td>0.00</td>\n",
       "      <td>0.00</td>\n",
       "      <td>0.00</td>\n",
       "      <td>0.00</td>\n",
       "      <td>2014</td>\n",
       "      <td>San Francisco</td>\n",
       "      <td>PT</td>\n",
       "    </tr>\n",
       "    <tr>\n",
       "      <th>38116</th>\n",
       "      <td>148649</td>\n",
       "      <td>Leon Walker</td>\n",
       "      <td>Custodian</td>\n",
       "      <td>0.00</td>\n",
       "      <td>0.00</td>\n",
       "      <td>0.00</td>\n",
       "      <td>0.00</td>\n",
       "      <td>0.00</td>\n",
       "      <td>0.00</td>\n",
       "      <td>2014</td>\n",
       "      <td>San Francisco</td>\n",
       "      <td>PT</td>\n",
       "    </tr>\n",
       "    <tr>\n",
       "      <th>38117</th>\n",
       "      <td>148650</td>\n",
       "      <td>Roy I Tillery</td>\n",
       "      <td>Custodian</td>\n",
       "      <td>0.00</td>\n",
       "      <td>0.00</td>\n",
       "      <td>0.00</td>\n",
       "      <td>0.00</td>\n",
       "      <td>0.00</td>\n",
       "      <td>0.00</td>\n",
       "      <td>2014</td>\n",
       "      <td>San Francisco</td>\n",
       "      <td>PT</td>\n",
       "    </tr>\n",
       "    <tr>\n",
       "      <th>38118</th>\n",
       "      <td>148654</td>\n",
       "      <td>Joe Lopez</td>\n",
       "      <td>Counselor, Log Cabin Ranch</td>\n",
       "      <td>0.00</td>\n",
       "      <td>0.00</td>\n",
       "      <td>-618.13</td>\n",
       "      <td>0.00</td>\n",
       "      <td>-618.13</td>\n",
       "      <td>-618.13</td>\n",
       "      <td>2014</td>\n",
       "      <td>San Francisco</td>\n",
       "      <td>PT</td>\n",
       "    </tr>\n",
       "  </tbody>\n",
       "</table>\n",
       "<p>38119 rows × 12 columns</p>\n",
       "</div>"
      ],
      "text/plain": [
       "           Id          EmployeeName                     JobTitle    BasePay  \\\n",
       "0      110532           David Shinn               Deputy Chief 3  129150.01   \n",
       "1      110533            Amy P Hart            Asst Med Examiner  318835.49   \n",
       "2      110534  William J Coaker Jr.     Chief Investment Officer  257340.00   \n",
       "3      110535        Gregory P Suhr              Chief of Police  307450.04   \n",
       "4      110536  Joanne M Hayes-White       Chief, Fire Department  302068.00   \n",
       "...       ...                   ...                          ...        ...   \n",
       "38114  148646      Carolyn A Wilson    Human Services Technician       0.00   \n",
       "38115  148648        Joann Anderson  Communications Dispatcher 2       0.00   \n",
       "38116  148649           Leon Walker                    Custodian       0.00   \n",
       "38117  148650         Roy I Tillery                    Custodian       0.00   \n",
       "38118  148654             Joe Lopez   Counselor, Log Cabin Ranch       0.00   \n",
       "\n",
       "       OvertimePay   OtherPay  Benefits   TotalPay  TotalPayBenefits  Year  \\\n",
       "0             0.00  342802.63  38780.04  471952.64         510732.68  2014   \n",
       "1         10712.95   60563.54  89540.23  390111.98         479652.21  2014   \n",
       "2             0.00   82313.70  96570.66  339653.70         436224.36  2014   \n",
       "3             0.00   19266.72  91302.46  326716.76         418019.22  2014   \n",
       "4             0.00   24165.44  91201.66  326233.44         417435.10  2014   \n",
       "...            ...        ...       ...        ...               ...   ...   \n",
       "38114         0.00       0.00      0.00       0.00              0.00  2014   \n",
       "38115         0.00       0.00      0.00       0.00              0.00  2014   \n",
       "38116         0.00       0.00      0.00       0.00              0.00  2014   \n",
       "38117         0.00       0.00      0.00       0.00              0.00  2014   \n",
       "38118         0.00    -618.13      0.00    -618.13           -618.13  2014   \n",
       "\n",
       "              Agency Status  \n",
       "0      San Francisco     PT  \n",
       "1      San Francisco     FT  \n",
       "2      San Francisco     PT  \n",
       "3      San Francisco     FT  \n",
       "4      San Francisco     FT  \n",
       "...              ...    ...  \n",
       "38114  San Francisco     PT  \n",
       "38115  San Francisco     PT  \n",
       "38116  San Francisco     PT  \n",
       "38117  San Francisco     PT  \n",
       "38118  San Francisco     PT  \n",
       "\n",
       "[38119 rows x 12 columns]"
      ]
     },
     "execution_count": 13,
     "metadata": {},
     "output_type": "execute_result"
    }
   ],
   "source": [
    "data"
   ]
  },
  {
   "cell_type": "markdown",
   "metadata": {
    "id": "2DNK_QLozSyF"
   },
   "source": [
    "Check out if \"TotalPayBenefits\" = \"BasePay\" + \"OvertimePay\" + \"OtherPay\" + \"Benefits\""
   ]
  },
  {
   "cell_type": "code",
   "execution_count": 14,
   "metadata": {},
   "outputs": [
    {
     "data": {
      "text/plain": [
       "10022"
      ]
     },
     "execution_count": 14,
     "metadata": {},
     "output_type": "execute_result"
    }
   ],
   "source": [
    "is_equal = (data['BasePay'] + data['OvertimePay'] + data['OtherPay'] + data['Benefits']) == data['TotalPayBenefits']\n",
    "num_not_equal = len(is_equal[is_equal == False])\n",
    "num_not_equal"
   ]
  },
  {
   "cell_type": "code",
   "execution_count": 15,
   "metadata": {},
   "outputs": [
    {
     "name": "stdout",
     "output_type": "stream",
     "text": [
      "Number of rows where the sum is not equal to 'TotalPayBenefits': 10022\n"
     ]
    }
   ],
   "source": [
    "print(f\"Number of rows where the sum is not equal to 'TotalPayBenefits': {num_not_equal}\")"
   ]
  },
  {
   "cell_type": "markdown",
   "metadata": {
    "id": "65AtoiMDzSyF"
   },
   "source": [
    "What is the percetage of employees for which the previous assumption is not True?"
   ]
  },
  {
   "cell_type": "code",
   "execution_count": 16,
   "metadata": {
    "colab": {
     "base_uri": "https://localhost:8080/"
    },
    "id": "XuydOtmBzSyF",
    "outputId": "83cd3939-89ec-4e36-dda8-ebb4b8e49013"
   },
   "outputs": [
    {
     "data": {
      "text/plain": [
       "26.29135076995724"
      ]
     },
     "execution_count": 16,
     "metadata": {},
     "output_type": "execute_result"
    }
   ],
   "source": [
    "total_count = len(data['TotalPayBenefits'])\n",
    "ratio = (num_not_equal / total_count) * 100\n",
    "ratio"
   ]
  },
  {
   "cell_type": "markdown",
   "metadata": {
    "id": "hxAKJ0grzSyG"
   },
   "source": [
    "There are different departments in the city. List all departments and the count of employees in each department."
   ]
  },
  {
   "cell_type": "code",
   "execution_count": 17,
   "metadata": {},
   "outputs": [
    {
     "data": {
      "text/plain": [
       "array(['Deputy Chief 3', 'Asst Med Examiner', 'Chief Investment Officer',\n",
       "       'Chief of Police', 'Chief, Fire Department', 'Dept Head V',\n",
       "       'Executive Contract Employee', 'Battalion Chief, Fire Suppress',\n",
       "       'Asst Chf of Dept (Fire Dept)', 'Gen Mgr, Public Trnsp Dept',\n",
       "       'Senior Physician Specialist', 'Commander 3',\n",
       "       'Dep Chf of Dept (Fire Dept)', 'Administrator, DPH', 'Mayor',\n",
       "       'Adm, SFGH Medical Center', 'Controller', 'Anesthetist',\n",
       "       'Dep Dir V', 'Port Director', 'Manager, Dept Public Health',\n",
       "       'Deputy Sheriff', 'Assistant Deputy Chief 2', 'Deputy Dir II, MTA',\n",
       "       'Firefighter', 'Emergency Medical Svcs Chief', 'Manager VIII',\n",
       "       'District Attorney', 'Inspector 3', 'Captain 3',\n",
       "       'Captain, Fire Suppression', 'Nursing Supervisor',\n",
       "       'Lieut,Fire Prev', 'Dept Head IV', 'City Attorney',\n",
       "       'EMT/Paramedic/Firefighter', 'Police Officer 3',\n",
       "       'Lieutenant, Fire Suppression', 'Sheriff (SFERS)', 'Dep Dir IV',\n",
       "       'Nurse Manager', 'Nursing Supervisor Psychiatric',\n",
       "       'Supervising Physician Spec', 'Captain, Emergency Med Svcs',\n",
       "       'Sergeant 3', 'Public Defender', 'Cfdntal Chf Atty 2,(Cvl&Crmnl)',\n",
       "       'Police Officer 2', 'Dept Head III',\n",
       "       'Capt,Fire Prev or Fire Invsgtn', 'Lieutenant 2',\n",
       "       'Chief Atty1 (Civil & Criminal)', 'Chief Forensic Toxicologist',\n",
       "       'Insp, Fire Dept', 'Dir Emp Relations Div', 'Special Assistant 21',\n",
       "       'Human Resources Director', 'Chief Adult Probation Officer',\n",
       "       'Assistant Chief Attorney 2', 'Manager VII', 'Nurse Practitioner',\n",
       "       'Mech Shop & Equip Supt', 'Lieutenant 3',\n",
       "       'Marine Engineer of Fire Boats', 'Pilot of Fire Boats',\n",
       "       'Special Assistant 22', 'Manager VIII, MTA',\n",
       "       \"Sheriff's Lieutenant\", 'Assistant Chief Attorney 1',\n",
       "       'Diagnostic Imaging Tech III', 'Incident Support Specialist',\n",
       "       'Senior Deputy Sheriff', 'Electr Maint Tech Asst Sprv',\n",
       "       'Assistant Sheriff', 'Manager VI, MTA', 'Deputy Dir I, MTA',\n",
       "       'Manager VI', 'Engineer/Architect Principal', 'Project Manager 4',\n",
       "       'Dept Head II', 'Physician Specialist', 'Physician Assistant',\n",
       "       'Pharmacist', 'Head Atty, Civil & Criminal',\n",
       "       'Attorney (Civil/Criminal)', 'Electrical Transit Shop Sprv 1',\n",
       "       'Mayoral Staff XVII', 'Engineer', \"Sheriff's Sergeant\",\n",
       "       'Dept Head I', 'Architectural Associate 1', 'Dep Dir III',\n",
       "       'Clinical Nurse Specialist', 'Manager V',\n",
       "       'Chf Prob Ofc, Juv Court', 'Deputy Probation Officer',\n",
       "       'Eng/Arch/Landscape Arch Sr', 'Landscape Architect Assoc 2',\n",
       "       'IS Engineer-Principal', 'Sergeant 2', 'Head Park Patrol Officer',\n",
       "       'Heating/Ventilating Inspector', 'Manager VII, MTA',\n",
       "       'Electrical Transit System Mech', 'Track Maint Wrk Sprv 1',\n",
       "       'Assessor', 'IS Project Director', 'Chief Deputy Sheriff',\n",
       "       'Police Officer', 'Special Assistant 19', 'Registered Nurse',\n",
       "       'Fire Safety Inspector 2', 'Transit Supervisor', 'Board Scty, MTA',\n",
       "       'Senior Parking Control Officer', 'Treasurer',\n",
       "       'Assistant Inspector 3', 'Assoc Engineer',\n",
       "       'Sergeant, (Police Department)', 'Transit Power Line Sprv1',\n",
       "       'Project Manager 3', 'Diagnostic Imaging Tech II',\n",
       "       'Wire Rope Cable Maint Sprv', \"Sheriff's Captain\",\n",
       "       'Invstgtor,Fire Dept', 'Electrical Trnst Mech Sprv 1',\n",
       "       'Trnst Power Line Wrk Sprv 2', 'Radiologic Tech Sprv',\n",
       "       'Wire Rope Cable Maint Mechanic', 'Utility Plumber Supervisor 1',\n",
       "       'Clinical Pharmacist', 'Water Const&Main Supt',\n",
       "       'Electronic Maintenance Tech', 'Manager IV',\n",
       "       'Bldgs & Grounds Maint Supt', 'Welder', 'Supervising Pharmacist',\n",
       "       'IS Manager', 'Transit Operations Specialist',\n",
       "       'Chief Dep Adlt Prob Of (SFERS)', 'Inspector, (Police Department)',\n",
       "       'Electrl Trnst Mech, Asst Sprv', 'Airport Electrician',\n",
       "       'Dep Dir II', 'Chf District Atty Investigator', 'Manager III',\n",
       "       'Power Generation Supervisor', 'Trans and Dist Line Worker',\n",
       "       'Law Librarian', 'Transmission Line Supervisor 1',\n",
       "       'Automotive Mechanic Sprv 1', 'Transit Power Line Worker',\n",
       "       'IS Engineer-Senior', 'Manager,Employee Relations Div',\n",
       "       'Institutional Police Sergeant', 'Attorney, Tax Collector',\n",
       "       'Plumbing Inspector', 'Train Controller',\n",
       "       'Diagnostic Imaging Tech IV', 'Senior Comm Systems Technican',\n",
       "       'Utility Plumber Supervisor 2', 'Public SafetyComm Disp',\n",
       "       'Public Health Nurse', \"Med Examiner's InvestigatorIII\",\n",
       "       'Maintenance Machinist', 'Nurse Midwife', 'Manager V, MTA',\n",
       "       'Auto Body & Fender Wrk Sprv 1', 'Sprv Electronic Main Tech',\n",
       "       'Planner 5', 'Architectural Associate 2', 'Car and Auto Painter',\n",
       "       'Chief Water Service Inspector', 'Sr Light Rail Veh Equip Eng',\n",
       "       'Project Manager 2', 'Landscape Architect',\n",
       "       'Airport Operations Supervisor', 'Automotive Trnst Shop Sprv 1',\n",
       "       'Mayoral Staff XVI', 'Asst.Dep.Dir., Port', 'Manager II',\n",
       "       'Manager IV, MTA', \"Med Examiner's Investigator II\",\n",
       "       'Disability Access Coordinator', 'Fire Rescue Paramedic',\n",
       "       'IS Engineer-Journey', 'Health Program Coordinator 3',\n",
       "       'Transit Operator', 'Senior Museum Registrar', 'Transit Manager 2',\n",
       "       'Mayoral Staff XV', 'Sewer Repair Supervisor',\n",
       "       'Traf Signal Electrician Sup I', 'Principal Real Property Ofc',\n",
       "       'Communication Line Sprv1', 'Supt Water Treatment Fac',\n",
       "       'Administrative Engineer', 'Senior Stationary Engineer',\n",
       "       'Structural Engineer', 'Line Inspector',\n",
       "       'Water Operations Analyst', 'Stationary Engineer',\n",
       "       'Building Plans Engineer', 'Sr Power Generation Tech',\n",
       "       'Chf Statnry Eng,WtrTreat Plnt', 'Electrical Line Worker',\n",
       "       'Utility Plumber', 'Manager III, MTA',\n",
       "       'IS Business Analyst-Principal', 'Manager I',\n",
       "       'Chief Stationary Engineer', 'Communications Systems Tech',\n",
       "       'Electrician Supervisor 1', 'Landscape Architect Assoc 1',\n",
       "       'Sewage Treatment Plant Supt', 'Lieutenant (Police Department)',\n",
       "       'Pub Safety Communication Coord', 'Ex Asst to Admin, SFGH',\n",
       "       'Construction Inspector', 'Traffic Signal Electrician',\n",
       "       'Sr Counselor, Juvenile Hall', 'Asst Engr',\n",
       "       'Trans Safety Specialist', 'Utility Specialist',\n",
       "       'Deputy Sheriff (SFERS)', 'Chief Building Inspector',\n",
       "       'Chief Plumbing Inspector', 'Architect',\n",
       "       'Telecommunications Tech Supv', 'Carpenter Supervisor 2',\n",
       "       'Senior Const Inspector', 'Communications Line Wrk Sprv 2',\n",
       "       'Diagnostic Imaging Tech I', 'Sr Statnry Eng, Wtr Treat Plnt',\n",
       "       'Senior Building Inspector', 'Fire Protection Engineer',\n",
       "       'Electrician', 'Manager II, MTA', 'Dist Atty Investigator (SFERS)',\n",
       "       'Special Nurse', 'Traf Signal Electrician Sup II',\n",
       "       'Emergency Med Svcs Agency Spec', 'Stationary Eng, Sewage Plant',\n",
       "       'Maintenance Controller', 'Electrical Inspector',\n",
       "       'Maintenance Machinist Sprv 1', 'Supervising Purchaser',\n",
       "       'Senior Electrical Inpsector', 'Chief Electrical Inspector',\n",
       "       'Station Agent, Muni Railway', 'Public SafetyComm Supv',\n",
       "       'Lab Svcs Mgr', 'Safety Officer', 'Protective Services Supervisor',\n",
       "       'Criminalist III', 'Institutional Police Officer',\n",
       "       'Chf Stationary Eng, Sew Plant', 'IS Business Analyst-Senior',\n",
       "       'Senior Water Service Inspector', 'Undersheriff (SFERS)',\n",
       "       'Bldg & Grounds Maint Sprv', 'Sr. Stationary Eng, Sew Plant',\n",
       "       'Nursing Assistant', 'Senior Claims Investigator',\n",
       "       'Power Generation Technician 2', 'Locksmith Supervisor 1',\n",
       "       'Dep Dir I', 'Sr District Atty Investigator',\n",
       "       'Principal Personnel Analyst', 'Building Inspector',\n",
       "       'Public Relations Mgr', 'Mayoral Staff XIV',\n",
       "       'Street Environ Svcs Oprs Supv', 'Maintenance Planner',\n",
       "       'Ex Asst to Ex Dir, Retirement', 'Track Maintenance Worker',\n",
       "       'Operating Engineer, Universal', 'Switch Repairer',\n",
       "       'Automotive Mechanic Asst Sprv', 'Director, Probation Services',\n",
       "       'Senior Plumbing Inspector', 'Senior Occupational Therapist',\n",
       "       'Project Manager 1', 'Plumber Supervisor 1', 'Automotive Mechanic',\n",
       "       'Plumber Supervisor 2', 'Licensed Vocational Nurse',\n",
       "       'Airport Electrician Supervisor', \"Asst Chf Dist Atty's Invstgtor\",\n",
       "       'Claims Investigator', 'Contract Compliance Officer 2',\n",
       "       'Senior Industrial Hygienist', 'Planner 4-Environmental Review',\n",
       "       'Automotive Body & Fender Wrk', 'Water Conservation Admin',\n",
       "       'IT Operations Support Admin IV', 'Div Director, Adult Probation',\n",
       "       'Plumber', 'Water Service Inspector', 'Prnpl Admin Analyst II',\n",
       "       'IS Prg Analyst-Principal', 'Street Repair Supervisor 2',\n",
       "       'Chief Surveyor', 'Senior Property Manager, Port',\n",
       "       'Steamfitter Supervisor I', 'Crane Mechanic Supervisor',\n",
       "       'Mayoral Staff XI', 'Maintenance Manager',\n",
       "       'Transit Power Cable Splicer', 'Sr Environmental Hlth Insp',\n",
       "       'Elevator and Crane Technician', 'Planner 4',\n",
       "       'Airport Safety Officer', 'Light Rail Vehicle Equip Eng',\n",
       "       'Perf Analyst III Project Mgr', 'Electrician Supervisor II',\n",
       "       'Director, Juvenile Hall', 'Senior Physical Therapist',\n",
       "       'Cable Splicer', 'Senior Power House Operator',\n",
       "       'IT Operations Support Admin V', 'Mayoral Staff XIII',\n",
       "       'Automotive Machinist Sprv 1', 'IS Business Analyst',\n",
       "       'Chf Victim/Witness Invstgtor', 'Carpenter Supervisor 1',\n",
       "       'Transit Car Cleaner', 'Statnry Eng Water Treat Plant',\n",
       "       'Asst Dir of Clinical Svcs 1', 'Maintenance Scheduler',\n",
       "       'Utility Plumber Apprentice', 'Pr Administrative Analyst',\n",
       "       'Supv Chemist', 'Cement Finisher Supervisor 2',\n",
       "       'Airport Economic Planner', 'Architectural Assistant 2',\n",
       "       'ASR Senior Office Specialist', 'Transportation Planner IV',\n",
       "       'Real Estate Devt. Mgr, SFMTA', 'Senior Housing Inspector',\n",
       "       'Eligibility Worker Supervisor', 'Auto Machinist Asst Sprv',\n",
       "       'Automotive Machinist', 'Electr Instrmntn Tech Wtr Poll',\n",
       "       'Supv Biologist', 'Sheet Metal Supervisor 1',\n",
       "       'Protective Services Worker', 'Industrial Hygienist',\n",
       "       'Pr Environmental Hlth Insp', 'Patient Care Assistant',\n",
       "       'Senior Emp Relations Repres', 'Sheet Metal Wrk Supervisor 2',\n",
       "       'Biologist III', 'Asst Materials Coordinator', 'Auditor III',\n",
       "       'General Laborer Supervisor 1', 'Asst Forensic Toxicologist 1',\n",
       "       'Airport Communications Disp', 'Media/Security Syst Supv',\n",
       "       'Emergency Services Coord IV', 'Accountant IV',\n",
       "       'Senior Real Property Officer', 'Sprv Wastewater Cont Inspector',\n",
       "       'Member, Board of Supervisors', 'Senior Administrative Analyst',\n",
       "       'Employment & Training Spec 6', 'Heavy Equipment Ops Sprv',\n",
       "       'Sprv Clincal Psychologist', 'Senior Plan Checker',\n",
       "       'Sewer Service Worker', 'Public Relations Officer',\n",
       "       'Counselor, Log Cabin Ranch', 'Ex Dir, SE Com Fac Comm',\n",
       "       'Environmental Health Inspector', 'Senior Personnel Analyst',\n",
       "       'Architectural Administrator', 'Asphalt Finisher Supervisor 1',\n",
       "       'Chemist III', 'Parking Enforcement Admin',\n",
       "       'Materials Coordinator', 'City Shops Asst Superintendent',\n",
       "       'Principal Parts Storekeeper', 'Survey Associate',\n",
       "       'Criminalist II', 'Claims Adjuster', 'Dentist', 'Safety Analyst',\n",
       "       'Pr Real Property Appraiser', 'EEO Senior Specialist',\n",
       "       'Steamfitter', 'Pr Personal Property Auditor',\n",
       "       'Principal Environ Specialist', 'Housing Inspector',\n",
       "       'Maritime Marketing Repr', 'Engineering Associate 2',\n",
       "       'Transit Manager 1', 'Speech Pathologist', 'Power House Operator',\n",
       "       \"District Attry's Investigator\", 'Industrial Engineer',\n",
       "       'Planner 3-Environmental Review', 'Coord of Citizen Involvement',\n",
       "       'Truck Driver', 'Transit Fare Insp. Sup/Invst.',\n",
       "       'Research Psychologist', 'Undersheriff',\n",
       "       'Asst Director, Juvenile Hall', 'SrClaimsInvstgtor,Cty Atty Ofc',\n",
       "       'Sr Community Dev Spec 2', 'IS Engineer-Assistant',\n",
       "       'Hospital Elig Wrk Supervisor', 'Psychiatric Social Worker',\n",
       "       'Senior Street Inspector', \"Worker's Compensation Adjuster\",\n",
       "       'Clinical Psychologist', 'Sheet Metal Worker',\n",
       "       'Asst Superintendent Rec', 'Planner 3', 'Occupational Therapist',\n",
       "       'Pipe Welder', 'Physical Therapist', 'Automotive Service Worker',\n",
       "       'Arborist Technician Supervisor', 'Electric Motor Repairer',\n",
       "       'Coord, Human Rights Comm', 'Soft Floor Coverer Supvr I',\n",
       "       'Senior Microbiologist', 'Airport Property Specialist 1',\n",
       "       'HSA Sr Eligibility Worker', 'Security Analyst',\n",
       "       \"Worker's Comp Supervisor 1\", 'Regulatory Specialist',\n",
       "       'Cement Finisher Supervisor 1', 'Govrnmt/Publ Affairs Mgr',\n",
       "       'Watershed Forester', 'Marriage, Family & Child Cnslr',\n",
       "       'Assistant Law Librarian', 'Legislative Assistant',\n",
       "       'Communications Dispatcher 2', 'Transportation Planner III',\n",
       "       \"Med Examiner's Investigator I\", 'Sr Sprv Prob Ofc, Juv Prob',\n",
       "       'Pr Payroll & Personnel Clerk', 'Shelter Veterinarian',\n",
       "       'Park Patrol Officer', 'Benefits Supervisor',\n",
       "       'Chief Housing Inspector', 'Sprv Prob Ofc, Juv Court',\n",
       "       'Airport Communications Officer', 'Sprv Adult Probation Ofc',\n",
       "       'Sr Psychiatric Social Worker', 'Street Inspection Supervisor',\n",
       "       'Locksmith', 'Painter Supervisor 1', 'Bd/Comm Secretary 3',\n",
       "       'Parking Control Officer', 'Sup Welfare Fraud Investigator',\n",
       "       'Sr Airport Communications Disp', 'Electric Motor Repair Sprv 1',\n",
       "       'Wastewater Control Inspector', 'Power Generation Technician 1',\n",
       "       'Piledriver Supervisor 1', 'Emergency Services Coord III',\n",
       "       'Carpenter', 'Water & Power Maint Sprv 1',\n",
       "       'Heavy Equip Ops Asst Sprv', 'Media/Security Sys Spec',\n",
       "       'Counselor, Juvenile Hall', 'Senior Purchaser',\n",
       "       'Sr Marriage, Fam & Cld Cnslr', 'Ornamental Iron Wrk Sprv 1',\n",
       "       'IS Administrator 3', 'Senior Health Program Planner',\n",
       "       'Employee Relations Representat', 'Property Manager, Port',\n",
       "       'Airport Emerg Planning Coord', 'Librarian 3',\n",
       "       'IS Administrator-Supervisor', 'Asst Dir, Log Cabin Rnch',\n",
       "       'Claims Investigator, CA', 'General Laborer',\n",
       "       'Social Work Specialist', 'Bricklayer', 'Personnel Analyst',\n",
       "       'Stage Electrician', 'Program Support Analyst',\n",
       "       'Real Property Manager', 'Biologist', 'Parts Storekeeper',\n",
       "       'Park Section Supervisor', 'Pr Fare Collections Receiver',\n",
       "       'Feasibility Analyst, Port', 'IS Trainer-Senior', 'Forester',\n",
       "       'Pharmacy Technician', 'Auditor II',\n",
       "       'Asst Clk, Board of Supervisors', 'Epidemiologist 2',\n",
       "       'Medical Social Work Supervisor', 'Curator 4',\n",
       "       'Assistant Storekeeper', 'Performance Analyst II',\n",
       "       'Electrical Line Helper', 'Commercial Div Asst Sprv',\n",
       "       'Sr Public Defenders Invstgtor', 'Senior Health Educator',\n",
       "       'Area Sprv Parks, Squares & Fac', 'Sr. Environmental Spec',\n",
       "       'Conservatorship/Case Mgt Sprv', 'IS Programmer Analyst',\n",
       "       'Administrative Services Mgr', 'Accountant III',\n",
       "       'AprntcStatnry Eng,WtrTreatPlnt', 'Apprentice Stationary Engineer',\n",
       "       'Senior Real Property Appraiser', 'Investigator, Tax Collector',\n",
       "       'IS Programmer Analyst-Senior', 'Sr Investigator, OCC', 'Glazier',\n",
       "       'Employment & Training Spec 5', 'Chf Payroll & Personnel Clerk',\n",
       "       'Painter Supervisor 2', 'Asst Chf Victim/Wit Invstgtor',\n",
       "       'Sr Personal Property Auditor', 'Secretary, Comm on the Environ',\n",
       "       'Asphalt Plant Supervisor 1', 'Fusion Welder', 'Pile Worker',\n",
       "       'Pr Investigator, Tax Collector', 'Airports Communications Sprv',\n",
       "       'Payroll Supervisor', 'Cement Mason', 'Piledriver Engine Operator',\n",
       "       'Deputy Sheriff 1', 'Program Specialist', 'Transit Fare Inspector',\n",
       "       'Investigator,Taxi & AccessSvcs', 'Pattern Maker',\n",
       "       'Events & Facilities Specialist', 'Food Service Mgr Administrator',\n",
       "       'Contract Compliance Officer 1', 'Administrative Hearing Sup',\n",
       "       'Chief Fire Alarm Dispatcher', 'Welfare Fraud Investigator',\n",
       "       'Sr Cent Proc & Dist Tech', 'Asst Electronic Main Tech',\n",
       "       'Main Machinist Asst Sprv', 'Sr Employee Asst Counselor',\n",
       "       'Museum Sec Supv', 'Aprntc Statnry Eng, Sew Plant',\n",
       "       'Municipal Stadium Groundskpr', 'Program Specialist Supervisor',\n",
       "       'Sprv, Traffic & Street Signs', 'Senior Medical Social Worker',\n",
       "       'Mental Hlth Treatment Spec', 'Assistant Const Inspector',\n",
       "       'Chemist', 'Invstgtor Ofc Citizen Cmplnts', 'Chief Dietitian',\n",
       "       'Health Program Coordinator 2', 'X-Ray Laboratory Aide',\n",
       "       'Junior Engineer', 'HH Mechanical Shop Sprv',\n",
       "       'Auto Body&Fender Wrk Asst Sprv', 'Nutritionist',\n",
       "       'IT Operations Support Admn III', 'Ex Asst to the Controller',\n",
       "       'Secretary, Library Commission', 'Librarian 2', 'Dental Hygienist',\n",
       "       'Medical Social Worker', 'Criminal Justice Specialist 2',\n",
       "       'Principal Clerk', 'Sr. Community Devl Spc 1',\n",
       "       'Public Health Team Leader', 'Patient Accounts Manager',\n",
       "       'Arborist Technician Supv II', 'Sctry, Bldg Inspection Comm',\n",
       "       'Market Research Spec, Port', 'Instructional Designer',\n",
       "       'Training Officer', 'Senior Management Assistant',\n",
       "       'IT Operations Support Admin II', 'Victim/Witness Investigator 3',\n",
       "       'Rep, Comm Status of Women', 'Transit Car Cleaner Asst Sprv',\n",
       "       'Health Educator', 'Sr Payroll & Personnel Clerk',\n",
       "       'Porter Supervisor 1', 'Transportation Planner II',\n",
       "       'Communications Dispatcher 1', 'Media Training Specialist',\n",
       "       'Patient Accounts Supervisor', 'Chef', 'Librarian 2 - Asian Arts',\n",
       "       'Administrative Analyst', 'IS Administrator 2',\n",
       "       'Media Production Supv', 'Medical Records Tech Sprv',\n",
       "       'Microbiologist', \"Public Defender's Investigator\",\n",
       "       'Rehabilitation Svcs Coord', 'Medical Evaluations Assistant',\n",
       "       'Water Quality Technician', 'Comm Pol Svcs Aide Supervisor',\n",
       "       'Child Support Officer III', 'Audiologist',\n",
       "       'Engineering Associate 1', 'Roofer Supervisor 1', 'Painter',\n",
       "       'Employee Assistance Counselor', 'Secretary, Health Commission',\n",
       "       'Emp & Training Spec 4', 'Fire Alarm Dispatcher',\n",
       "       'Counselor, Juvenile Hall SFERS', 'Central Processing & Dist Tech',\n",
       "       'Arborist Technician', 'General Utility Mechanic',\n",
       "       'Custodial Assistant Supervisor', 'Senior Benefits Analyst',\n",
       "       'Utility Analyst', 'Mayoral Staff IX', 'Environmental Spec',\n",
       "       'Fingerprint Technician 2', 'Surgical Procedures Technician',\n",
       "       'Watershed Keeper Supervisor', 'Street Inspector',\n",
       "       'Health Program Planner', 'Social Work Supervisor',\n",
       "       'EEO Programs Specialist', 'Senior Estate Investigator',\n",
       "       'Unit Clerk', 'Recreation Supervisor', 'Senior Personnel Clerk',\n",
       "       'Eligibility Worker', 'Auto Svc Wrk Asst Sprv',\n",
       "       'Sr Fare Collections Receiver', 'Dir of Act, Therapy & Vol Svcs',\n",
       "       'Health Worker 4', 'Hospital Eligiblity Worker',\n",
       "       'Physical Therapist Assistant', 'Asst General Services Manager',\n",
       "       'Water Quality Tech III', 'Integrated Pest Mgmt Specialst',\n",
       "       'Executive Secretary 3', 'Porter Assistant Supervisor',\n",
       "       'Rep, Human Rights Comm', 'Health Care Analyst',\n",
       "       'Ornamental Iron Worker', 'Security Guard', 'Planner 2',\n",
       "       'Assistant Industrial Hygienist', 'Psychiatric Technician',\n",
       "       'Survey Assistant II', 'Water Meter Shop Supervisor 1',\n",
       "       'Illustrator and Art Designer', 'Chief Clerk',\n",
       "       'Real Property Appraiser', 'Janitorial Services Supervisor',\n",
       "       'Med Staff Svcs Dept Anl', 'Customer Service Agent Supv',\n",
       "       'Sewer Maintenance Worker', 'Deputy Probation Officer SFERS',\n",
       "       'Librarian 1', 'Depty Sealer of Weights & Meas',\n",
       "       'Watershed Keeper', 'Estate Investigator',\n",
       "       'Assoc Musm Cnsrvt, AAM', 'Junior Management Assistant',\n",
       "       'Fingerprint Technician 3', 'IS Trainer-Journey', 'Dietitian',\n",
       "       'Executive Secretary 2', 'Parking Meter Repairer Sprv 1',\n",
       "       'Medical Records Technician', 'Personal Property Auditor',\n",
       "       'Engineering Assistant', 'Roofer', 'Employment & Training Spec 3',\n",
       "       'Assistant Counselor', 'Purchaser', 'Museum Guard',\n",
       "       'Senior Clerk Typist', 'Legal Assistant', 'Graphics Supervisor',\n",
       "       'IS Business Analyst-Assistant', 'Prpl Permit and Citation Clerk',\n",
       "       'Janitorial Svcs Asst Sprv', 'Legal Secretary 2',\n",
       "       'Junior Administrative Analyst', 'Hodcarrier', 'Gardener',\n",
       "       'Victim/Witness Investigator 2', 'Patient Accounts Asst Sprv',\n",
       "       'Wharfinger 2', 'Senior Parts Storekeeper',\n",
       "       'Snr Permit and Citation Clerk', 'HSA Emp & Training Spec II',\n",
       "       'Community Police Services Aide', 'Architectural Assistant 1',\n",
       "       'Customer Service Agent', 'Cook', 'Forensic Laboratory Technician',\n",
       "       'Management Assistant', 'Clerk', 'Assistant Health Educator',\n",
       "       'Public Information Officer', 'HSA Social Worker', 'Curator 3',\n",
       "       'Community Development Spec', 'Airport Noise Abatement Spec',\n",
       "       'Window Cleaner Supervisor', 'Library Technical Assistant 2',\n",
       "       'Nursery Specialist', 'Citizens Complaint Officer', 'Custodian',\n",
       "       'Payroll Clerk', 'Child Support Officer II', 'Acupuncturist',\n",
       "       'Legislative Clerk', 'Human Services Technician',\n",
       "       'Health Worker 1', 'Rehabilitation Counselor',\n",
       "       'Patient Accounts Clerk', 'Senior Transit Traffic Checker',\n",
       "       'Accountant II', 'Assistant Retirement Analyst',\n",
       "       'Medical Records Clerk', 'Respiratory Care Practitioner',\n",
       "       'Secretary 2', 'Legal Secretary 1', 'Criminalist I',\n",
       "       'Animal Control Supervisor', 'Window Cleaner',\n",
       "       'Executive Secretary 1', 'Health Worker 2', 'Mayoral Staff VII',\n",
       "       'Health Program Coordinator 1', 'Epidemiologist 1',\n",
       "       'Volunteer/Outreach Coord', 'Collection Supervisor',\n",
       "       'Survey Assistant I', 'Principal Account Clerk',\n",
       "       'Senior Pharmacy Helper', 'Senior Psychiatric Orderly',\n",
       "       'Sprv Adult Prob Ofc (SFERS)', 'Soft Floor Coverer',\n",
       "       'Senior Collections Officer', 'Water Meter Repairer',\n",
       "       'Principal Museum Preparator', 'Senior Social Worker',\n",
       "       'Rent Board Supervisor', 'Principal Water Services Clerk',\n",
       "       'Senior Laundry Worker', 'Curator 2',\n",
       "       'Health Care Billing Clerk 2', 'Counselor 2', 'Porter',\n",
       "       'Tile Setter', 'Pharmacy Helper', 'DA Investigative Assist',\n",
       "       'Stores & Equip Asst Sprv', 'Forensic Autopsy Technician',\n",
       "       'Therapy Aide', 'Materials Testing Technician',\n",
       "       'Industrial Injury Investigator', 'Nurses Staffing Assistant',\n",
       "       'Senior Clerk', 'Clerk Typist', 'Aquatics Facility Supervisor',\n",
       "       'Parking Meter Repairer', 'Mail & Reproduction Svc Sprv',\n",
       "       'Asphalt Finisher', 'Custodial Supervisor',\n",
       "       'Urban Forestry Inspector', 'Medical Transcriber Typist',\n",
       "       'Senior Book Repairer', 'Fare Collections Receiver',\n",
       "       'Traffic Survey Technician', 'Research Assistant',\n",
       "       'Benefits Analyst', 'Library Technical Assistant 1',\n",
       "       'Asphalt Worker', 'Food Service Supervisor',\n",
       "       'Permit and Citation Clerk', 'Assistant Purchaser',\n",
       "       'Senior Morgue Attendant', 'Media Programming Spec',\n",
       "       'Senior Water Services Clerk', 'Admin Hearing Examiner',\n",
       "       'Home Health Aide', 'Sen Hospital Eligibility Wrkr',\n",
       "       'Disease Control Investigator', 'Senior Legal Process Clerk',\n",
       "       'Planner 1', 'Sign Worker', 'Metalsmith',\n",
       "       'Environmental Hlth Tech 1', 'Media Production Specialist',\n",
       "       'Senior Food Service Supervisor', 'Document Examiner Technician',\n",
       "       'Emergency Services Coord II', 'Auditor I', 'Senior Unit Clerk',\n",
       "       'Bldg & Grounds Patrol Officer', 'Shelter Officer Supervisor',\n",
       "       'Electroencephalograph Tech 1', 'Dental Aide', 'Accountant I',\n",
       "       'Arts Program Assistant', 'Environmental Assistant',\n",
       "       'Personnel Technician', 'Victim/Witness Investigator 1',\n",
       "       'Transit Traffic Checker', 'Supv Bldg Grounds Patrol Ofcr',\n",
       "       'Health Worker 3', 'IT Operations Support Admin I',\n",
       "       'Senior Account Clerk', 'Storekeeper', 'Marina Assistant',\n",
       "       'Cashier 2', 'Court Alternative Specialist 1', 'Animal Keeper',\n",
       "       'Orthopedic Technician 2', 'Special Assistant 11',\n",
       "       'Employment & Training Spec 1', 'Offset Machine Operator',\n",
       "       'Legislative Asst City Atty Ofc', 'Public Service Trainee',\n",
       "       'Social Worker', 'Animal Control Officer',\n",
       "       'Med Staff Svcs Dept Spc', 'Emergency Services Coord I',\n",
       "       'Patient Svcs Finance Tech', 'Secretary 1', 'IS Operator-Senior',\n",
       "       'Counselor,Log Cabin Rnch SFERS', 'Food Service Worker',\n",
       "       'Wharfinger 1', 'IS Trainer-Assistant',\n",
       "       'Transit Information Clerk', 'Agricultural Inspector',\n",
       "       'Senior Storekeeper', 'Inspector, Weights & Measures',\n",
       "       'Museum Registrar', 'Community Development Asst', 'Graphic Artist',\n",
       "       'Fingerprint Technician 1', 'Senior Telephone Operator',\n",
       "       'Hospital Eligibility Worker', 'Lighting Fixture Maint Worker',\n",
       "       'Chief Telephone Operator', 'Collections Officer',\n",
       "       'Benefits Technician', 'Mayoral Staff IV',\n",
       "       'Sr Transit Information Clerk', 'Materials Testing Aide',\n",
       "       'Health Care Billing Clerk 1', 'Laboratory Technician II',\n",
       "       'Sr. Microphoto/Imaging Tech.', 'Elections Worker', 'Inspector 2',\n",
       "       'Media Production Tech', 'Recreation Coordinator', 'Farmer',\n",
       "       'Shelter Office Asst Supv', 'Assessor-Recorder Office Spec',\n",
       "       'Library Assistant', 'Meter Reader', 'Cashier 1',\n",
       "       'IS Program Analyst-Assistant', 'Senior Food Service Worker',\n",
       "       'Photographer', 'Elections Clerk', 'Senior Museum Preparator',\n",
       "       'Curator 1', 'Planner Technician', 'Senior Transcriber Typist',\n",
       "       'Claims Process Clerk', 'Assistant Cook', 'Stable Attendant',\n",
       "       'Recreation Specialist', 'Orthopedic Technician 1',\n",
       "       'Animal Care Asst Supv', 'Dietetic Technician',\n",
       "       'Shelter Service Rep', 'Transcriber Typist',\n",
       "       'Animal Care Attendant', 'Inventory Clerk', \"Sheriff's Cadet\",\n",
       "       'Sr Materials & Supplies Sprv', 'Crafts Instructor',\n",
       "       'Housekeeper/Food Service Clnr', 'Telephone Operator',\n",
       "       'Legal Process Clerk', 'Personnel Clerk', 'Personnel Trainee',\n",
       "       'Environmental Service Worker', 'Supervising Parts Storekeeper',\n",
       "       'Account Clerk', 'Museum Preparator', 'Institution Utility Worker',\n",
       "       'Aquatics Facility Asst Supv', 'Public Relations Assistant',\n",
       "       'Book Repairer', 'Laboratory Technician I', 'ASR-Office Assistant',\n",
       "       'Assessment Clerk', 'StdntDsgn Train2/Arch/Eng/Plng',\n",
       "       'Swimming Instr/Pool Lifeguard', 'Associate Museum Registrar',\n",
       "       'Performance Analyst I', 'Apprentice Gardener',\n",
       "       'Special Assistant 3', 'Sctry, Juv Probation Comm',\n",
       "       'Materials/Supplies Supervisor', 'Shade and Drapery Worker',\n",
       "       'Sr Medical Transcriber Typist', 'ACPO,JuvP, Juv Prob (SFERS)',\n",
       "       'Field Svcs Asst Supv', 'StdntDsgnTrain1, Arch/Eng/Plng',\n",
       "       'Admission Attendant', 'Junior Clerk',\n",
       "       'Mgr Museum Security Services', 'Library Page', 'Beautician',\n",
       "       'Senior Eligibility Worker', 'Child Care Specialist',\n",
       "       'Microphoto/Imaging Technician', 'Public Service Aide-Admin',\n",
       "       'Court Clerk', 'Traffic Signal Operator',\n",
       "       'PrDAInvest,SpecUnit (SFERS)', 'Chief Preparator',\n",
       "       'Public Svc Aide-Public Works', 'Morgue Attendant',\n",
       "       'Apprentice Cement Mason I', 'Accountant Intern',\n",
       "       'Emp & Training Spec 2', 'PS Aide to Prof', 'Junior Clerk Typist',\n",
       "       'Publ Svc Aide-Asst to Prof', 'Recreation Leader', 'Statistician',\n",
       "       'StdntDsgnTrain3, Arch/Eng/Plng', 'Chief Deputy Adlt Probation Of',\n",
       "       'PS Aide Health Services', \"Sheriff's Property Keeper\",\n",
       "       'Animal Health Technician', 'Mayoral Staff V',\n",
       "       'Marina Associate Manager', 'Mayoral Staff II',\n",
       "       'Youth Comm Advisor', 'Audiometrist', 'Principal Recreation Sprv',\n",
       "       'Special Assistant 10', 'Chemist I/II',\n",
       "       'Emergency Services Assistant', 'Signal and Systems Engineer',\n",
       "       'Customer Service Agent Trainee', 'Chief Nursery Specialist',\n",
       "       'Sctry, Human Svcs. Commission', 'Sr Cnselor, Juv Hall (SFERS)',\n",
       "       'Swimming Instructor', 'Braillist', 'City Planning Intern',\n",
       "       'Forensic Toxicologist Supervis', 'Power Plant Supervisor 1',\n",
       "       'Dir, Log Cabin Ranch (SFERS)', 'Watershed Worker (Seasonal)',\n",
       "       'Pool Lifeguard', 'Testing Technician', 'IS Operator-Journey',\n",
       "       'Transit Planner 4', 'School Crossing Guard',\n",
       "       'Assistant Recreation Director', 'Transit Planner 2', 'Baker',\n",
       "       'Commissioner No Benefits', 'Recreation Director',\n",
       "       'Cfdntal Sctry to City Atty', 'Transit Planner III',\n",
       "       'Brd Comm Mbr, M=$200/Mtg', 'Water QualityTech I/II',\n",
       "       'Camp Assistant', 'Victim & Witness Technician',\n",
       "       'Special Assistant 15', 'Special Examiner',\n",
       "       'BdComm Mbr, Grp5,M$100/Mo', 'BdComm Mbr, Grp3,M=$50/Mtg',\n",
       "       'Mayoral Staff X', 'Barber', 'Marina Assistant Manager',\n",
       "       'Conversion', 'Cashier 3', 'BdComm Mbr, Grp2,M=$25/Mtg'],\n",
       "      dtype=object)"
      ]
     },
     "execution_count": 17,
     "metadata": {},
     "output_type": "execute_result"
    }
   ],
   "source": [
    "data['JobTitle'].unique()"
   ]
  },
  {
   "cell_type": "code",
   "execution_count": 18,
   "metadata": {
    "colab": {
     "base_uri": "https://localhost:8080/",
     "height": 455
    },
    "id": "rIP5w8uqzSyG",
    "outputId": "792a6c68-1553-489f-b021-6a1f1eb2fc75"
   },
   "outputs": [
    {
     "name": "stdout",
     "output_type": "stream",
     "text": [
      "JobTitle\n",
      "ACPO,JuvP, Juv Prob (SFERS)        1\n",
      "ASR Senior Office Specialist      22\n",
      "ASR-Office Assistant              15\n",
      "Account Clerk                     93\n",
      "Accountant I                       2\n",
      "                                  ..\n",
      "Wire Rope Cable Maint Sprv         1\n",
      "Worker's Comp Supervisor 1         6\n",
      "Worker's Compensation Adjuster    26\n",
      "X-Ray Laboratory Aide             35\n",
      "Youth Comm Advisor                 1\n",
      "Name: EmployeeName, Length: 996, dtype: int64\n"
     ]
    }
   ],
   "source": [
    "department_counts = data.groupby('JobTitle')['EmployeeName'].count()\n",
    "print(department_counts)"
   ]
  },
  {
   "cell_type": "markdown",
   "metadata": {
    "id": "eBkEuDaLzSyG"
   },
   "source": [
    "# Challenge 2 - Hypothesis Tests\n",
    "\n",
    "In this section of the lab, we will test whether the hourly wage of **all FT workers is significantly different from $75/hr**. Get first the hourly wage by dividing \"TotalPayBenefits\" by 50 weeks (assuming 10 labour days of holidays) and by 40hrs (assuming a 40hrs week).\n",
    "\n",
    "$$Hourly Wage = \\frac{TotalPayBenefits}{1 year}\\frac{1 year}{50 Week}\\frac{1 Week}{40 hr}$$\n",
    "\n",
    "Import the correct one sample test function from scipy and perform the hypothesis test for a 95% two sided confidence interval."
   ]
  },
  {
   "cell_type": "code",
   "execution_count": 19,
   "metadata": {},
   "outputs": [],
   "source": [
    "data1 = data[data['Status'] == 'FT'].assign(HourlyWage=data['TotalPayBenefits'] / 2000)"
   ]
  },
  {
   "cell_type": "code",
   "execution_count": 20,
   "metadata": {},
   "outputs": [
    {
     "data": {
      "text/html": [
       "<div>\n",
       "<style scoped>\n",
       "    .dataframe tbody tr th:only-of-type {\n",
       "        vertical-align: middle;\n",
       "    }\n",
       "\n",
       "    .dataframe tbody tr th {\n",
       "        vertical-align: top;\n",
       "    }\n",
       "\n",
       "    .dataframe thead th {\n",
       "        text-align: right;\n",
       "    }\n",
       "</style>\n",
       "<table border=\"1\" class=\"dataframe\">\n",
       "  <thead>\n",
       "    <tr style=\"text-align: right;\">\n",
       "      <th></th>\n",
       "      <th>Id</th>\n",
       "      <th>EmployeeName</th>\n",
       "      <th>JobTitle</th>\n",
       "      <th>BasePay</th>\n",
       "      <th>OvertimePay</th>\n",
       "      <th>OtherPay</th>\n",
       "      <th>Benefits</th>\n",
       "      <th>TotalPay</th>\n",
       "      <th>TotalPayBenefits</th>\n",
       "      <th>Year</th>\n",
       "      <th>Agency</th>\n",
       "      <th>Status</th>\n",
       "      <th>HourlyWage</th>\n",
       "    </tr>\n",
       "  </thead>\n",
       "  <tbody>\n",
       "    <tr>\n",
       "      <th>1</th>\n",
       "      <td>110533</td>\n",
       "      <td>Amy P Hart</td>\n",
       "      <td>Asst Med Examiner</td>\n",
       "      <td>318835.49</td>\n",
       "      <td>10712.95</td>\n",
       "      <td>60563.54</td>\n",
       "      <td>89540.23</td>\n",
       "      <td>390111.98</td>\n",
       "      <td>479652.21</td>\n",
       "      <td>2014</td>\n",
       "      <td>San Francisco</td>\n",
       "      <td>FT</td>\n",
       "      <td>239.826105</td>\n",
       "    </tr>\n",
       "    <tr>\n",
       "      <th>3</th>\n",
       "      <td>110535</td>\n",
       "      <td>Gregory P Suhr</td>\n",
       "      <td>Chief of Police</td>\n",
       "      <td>307450.04</td>\n",
       "      <td>0.00</td>\n",
       "      <td>19266.72</td>\n",
       "      <td>91302.46</td>\n",
       "      <td>326716.76</td>\n",
       "      <td>418019.22</td>\n",
       "      <td>2014</td>\n",
       "      <td>San Francisco</td>\n",
       "      <td>FT</td>\n",
       "      <td>209.009610</td>\n",
       "    </tr>\n",
       "    <tr>\n",
       "      <th>4</th>\n",
       "      <td>110536</td>\n",
       "      <td>Joanne M Hayes-White</td>\n",
       "      <td>Chief, Fire Department</td>\n",
       "      <td>302068.00</td>\n",
       "      <td>0.00</td>\n",
       "      <td>24165.44</td>\n",
       "      <td>91201.66</td>\n",
       "      <td>326233.44</td>\n",
       "      <td>417435.10</td>\n",
       "      <td>2014</td>\n",
       "      <td>San Francisco</td>\n",
       "      <td>FT</td>\n",
       "      <td>208.717550</td>\n",
       "    </tr>\n",
       "    <tr>\n",
       "      <th>5</th>\n",
       "      <td>110537</td>\n",
       "      <td>Ellen G Moffatt</td>\n",
       "      <td>Asst Med Examiner</td>\n",
       "      <td>270222.04</td>\n",
       "      <td>6009.22</td>\n",
       "      <td>67956.20</td>\n",
       "      <td>71580.48</td>\n",
       "      <td>344187.46</td>\n",
       "      <td>415767.94</td>\n",
       "      <td>2014</td>\n",
       "      <td>San Francisco</td>\n",
       "      <td>FT</td>\n",
       "      <td>207.883970</td>\n",
       "    </tr>\n",
       "    <tr>\n",
       "      <th>6</th>\n",
       "      <td>110538</td>\n",
       "      <td>John L Martin</td>\n",
       "      <td>Dept Head V</td>\n",
       "      <td>311298.55</td>\n",
       "      <td>0.00</td>\n",
       "      <td>0.00</td>\n",
       "      <td>89772.32</td>\n",
       "      <td>311298.55</td>\n",
       "      <td>401070.87</td>\n",
       "      <td>2014</td>\n",
       "      <td>San Francisco</td>\n",
       "      <td>FT</td>\n",
       "      <td>200.535435</td>\n",
       "    </tr>\n",
       "    <tr>\n",
       "      <th>...</th>\n",
       "      <td>...</td>\n",
       "      <td>...</td>\n",
       "      <td>...</td>\n",
       "      <td>...</td>\n",
       "      <td>...</td>\n",
       "      <td>...</td>\n",
       "      <td>...</td>\n",
       "      <td>...</td>\n",
       "      <td>...</td>\n",
       "      <td>...</td>\n",
       "      <td>...</td>\n",
       "      <td>...</td>\n",
       "      <td>...</td>\n",
       "    </tr>\n",
       "    <tr>\n",
       "      <th>28535</th>\n",
       "      <td>139067</td>\n",
       "      <td>Nasan M Snell</td>\n",
       "      <td>Public Svc Aide-Public Works</td>\n",
       "      <td>26653.98</td>\n",
       "      <td>0.00</td>\n",
       "      <td>0.00</td>\n",
       "      <td>18032.01</td>\n",
       "      <td>26653.98</td>\n",
       "      <td>44685.99</td>\n",
       "      <td>2014</td>\n",
       "      <td>San Francisco</td>\n",
       "      <td>FT</td>\n",
       "      <td>22.342995</td>\n",
       "    </tr>\n",
       "    <tr>\n",
       "      <th>28824</th>\n",
       "      <td>139356</td>\n",
       "      <td>Eddie Ellenberg Iv</td>\n",
       "      <td>Environmental Service Worker</td>\n",
       "      <td>31856.71</td>\n",
       "      <td>1529.52</td>\n",
       "      <td>350.99</td>\n",
       "      <td>7916.24</td>\n",
       "      <td>33737.22</td>\n",
       "      <td>41653.46</td>\n",
       "      <td>2014</td>\n",
       "      <td>San Francisco</td>\n",
       "      <td>FT</td>\n",
       "      <td>20.826730</td>\n",
       "    </tr>\n",
       "    <tr>\n",
       "      <th>28873</th>\n",
       "      <td>139405</td>\n",
       "      <td>Bernard O Sices</td>\n",
       "      <td>Environmental Service Worker</td>\n",
       "      <td>31592.80</td>\n",
       "      <td>1274.80</td>\n",
       "      <td>178.50</td>\n",
       "      <td>8144.01</td>\n",
       "      <td>33046.10</td>\n",
       "      <td>41190.11</td>\n",
       "      <td>2014</td>\n",
       "      <td>San Francisco</td>\n",
       "      <td>FT</td>\n",
       "      <td>20.595055</td>\n",
       "    </tr>\n",
       "    <tr>\n",
       "      <th>29324</th>\n",
       "      <td>139856</td>\n",
       "      <td>Julie Y Zhen</td>\n",
       "      <td>Public Svc Aide-Public Works</td>\n",
       "      <td>27980.52</td>\n",
       "      <td>349.54</td>\n",
       "      <td>777.30</td>\n",
       "      <td>7568.15</td>\n",
       "      <td>29107.36</td>\n",
       "      <td>36675.51</td>\n",
       "      <td>2014</td>\n",
       "      <td>San Francisco</td>\n",
       "      <td>FT</td>\n",
       "      <td>18.337755</td>\n",
       "    </tr>\n",
       "    <tr>\n",
       "      <th>29794</th>\n",
       "      <td>140326</td>\n",
       "      <td>Camea L Davis</td>\n",
       "      <td>Public Svc Aide-Public Works</td>\n",
       "      <td>27116.62</td>\n",
       "      <td>0.00</td>\n",
       "      <td>0.00</td>\n",
       "      <td>4856.19</td>\n",
       "      <td>27116.62</td>\n",
       "      <td>31972.81</td>\n",
       "      <td>2014</td>\n",
       "      <td>San Francisco</td>\n",
       "      <td>FT</td>\n",
       "      <td>15.986405</td>\n",
       "    </tr>\n",
       "  </tbody>\n",
       "</table>\n",
       "<p>22334 rows × 13 columns</p>\n",
       "</div>"
      ],
      "text/plain": [
       "           Id          EmployeeName                      JobTitle    BasePay  \\\n",
       "1      110533            Amy P Hart             Asst Med Examiner  318835.49   \n",
       "3      110535        Gregory P Suhr               Chief of Police  307450.04   \n",
       "4      110536  Joanne M Hayes-White        Chief, Fire Department  302068.00   \n",
       "5      110537       Ellen G Moffatt             Asst Med Examiner  270222.04   \n",
       "6      110538         John L Martin                   Dept Head V  311298.55   \n",
       "...       ...                   ...                           ...        ...   \n",
       "28535  139067         Nasan M Snell  Public Svc Aide-Public Works   26653.98   \n",
       "28824  139356    Eddie Ellenberg Iv  Environmental Service Worker   31856.71   \n",
       "28873  139405       Bernard O Sices  Environmental Service Worker   31592.80   \n",
       "29324  139856          Julie Y Zhen  Public Svc Aide-Public Works   27980.52   \n",
       "29794  140326         Camea L Davis  Public Svc Aide-Public Works   27116.62   \n",
       "\n",
       "       OvertimePay  OtherPay  Benefits   TotalPay  TotalPayBenefits  Year  \\\n",
       "1         10712.95  60563.54  89540.23  390111.98         479652.21  2014   \n",
       "3             0.00  19266.72  91302.46  326716.76         418019.22  2014   \n",
       "4             0.00  24165.44  91201.66  326233.44         417435.10  2014   \n",
       "5          6009.22  67956.20  71580.48  344187.46         415767.94  2014   \n",
       "6             0.00      0.00  89772.32  311298.55         401070.87  2014   \n",
       "...            ...       ...       ...        ...               ...   ...   \n",
       "28535         0.00      0.00  18032.01   26653.98          44685.99  2014   \n",
       "28824      1529.52    350.99   7916.24   33737.22          41653.46  2014   \n",
       "28873      1274.80    178.50   8144.01   33046.10          41190.11  2014   \n",
       "29324       349.54    777.30   7568.15   29107.36          36675.51  2014   \n",
       "29794         0.00      0.00   4856.19   27116.62          31972.81  2014   \n",
       "\n",
       "              Agency Status  HourlyWage  \n",
       "1      San Francisco     FT  239.826105  \n",
       "3      San Francisco     FT  209.009610  \n",
       "4      San Francisco     FT  208.717550  \n",
       "5      San Francisco     FT  207.883970  \n",
       "6      San Francisco     FT  200.535435  \n",
       "...              ...    ...         ...  \n",
       "28535  San Francisco     FT   22.342995  \n",
       "28824  San Francisco     FT   20.826730  \n",
       "28873  San Francisco     FT   20.595055  \n",
       "29324  San Francisco     FT   18.337755  \n",
       "29794  San Francisco     FT   15.986405  \n",
       "\n",
       "[22334 rows x 13 columns]"
      ]
     },
     "execution_count": 20,
     "metadata": {},
     "output_type": "execute_result"
    }
   ],
   "source": [
    "data1"
   ]
  },
  {
   "cell_type": "code",
   "execution_count": 21,
   "metadata": {},
   "outputs": [
    {
     "data": {
      "text/plain": [
       "69.264206407271"
      ]
     },
     "metadata": {},
     "output_type": "display_data"
    }
   ],
   "source": [
    "# Your code here: (Compute the mean hourly wage for all the \"FT\" employees)\n",
    "HourlyWage = data1['TotalPayBenefits'] / 2000\n",
    "display(data1[data1['Status']== 'FT']['HourlyWage'].mean())"
   ]
  },
  {
   "cell_type": "code",
   "execution_count": 22,
   "metadata": {},
   "outputs": [
    {
     "name": "stdout",
     "output_type": "stream",
     "text": [
      "population_mean: 69.264206407271\n",
      "sample_mean: 71.23279016666667\n",
      "sample_std: 25.910411696774474\n",
      "standard_error: 4.730572320189696\n",
      "t-statistic: 0.41614071747596293\n",
      "critical_value: 2.045229642132703\n"
     ]
    }
   ],
   "source": [
    "# Your code here: (compute the t_statistic). Take into account that this dataset is a sample of a real population.\n",
    "# Remember that you only need to consider \"FT\" employees\n",
    "\n",
    "#H0: HourlyWage in FT = $75/hr\n",
    "#H1: HourlyWate in FT != $75/hr\n",
    "\n",
    "# Method 1: Critical value. Get the critical value and compare it against your statisttic.\n",
    "# Your code here: \n",
    "\n",
    "from scipy.stats import t\n",
    "\n",
    "ft_data = data1[data1['Status'] == 'FT']\n",
    "\n",
    "population_mean = data1['HourlyWage'].mean()\n",
    "sample_size = 30\n",
    "sample_mean = data1['HourlyWage'].sample(30, random_state=1).mean()\n",
    "sample_std = data1['HourlyWage'].sample(30, random_state=1).std()\n",
    "standard_error = sample_std / (sample_size ** 0.5)\n",
    "\n",
    "degrees_of_freedom = sample_size - 1\n",
    "\n",
    "t_statistic = (sample_mean - population_mean) / standard_error\n",
    "\n",
    "\n",
    "alpha = 0.05\n",
    "critical_value = t.ppf(1 - alpha / 2, degrees_of_freedom)\n",
    "\n",
    "print(\"population_mean:\", population_mean)\n",
    "print(\"sample_mean:\", sample_mean)\n",
    "print(\"sample_std:\", sample_std)\n",
    "print(\"standard_error:\", standard_error)\n",
    "print(\"t-statistic:\", t_statistic)\n",
    "print(\"critical_value:\", critical_value)"
   ]
  },
  {
   "cell_type": "code",
   "execution_count": 23,
   "metadata": {},
   "outputs": [
    {
     "name": "stdout",
     "output_type": "stream",
     "text": [
      "p-value: 0.6803707335778229\n"
     ]
    }
   ],
   "source": [
    "# Method 2: Use the p-value method.\n",
    "# Your code here:\n",
    "\n",
    "from scipy.stats import t\n",
    "\n",
    "t_statistic = 0.41614071747596293\n",
    "degrees_of_freedom = 29  \n",
    "\n",
    "p_value = 2 * (1 - t.cdf(abs(t_statistic), degrees_of_freedom))\n",
    "\n",
    "print(\"p-value:\", p_value)"
   ]
  },
  {
   "cell_type": "code",
   "execution_count": 24,
   "metadata": {},
   "outputs": [
    {
     "data": {
      "text/plain": [
       "Ttest_1sampResult(statistic=-0.7963539247154477, pvalue=0.4322975682437393)"
      ]
     },
     "execution_count": 24,
     "metadata": {},
     "output_type": "execute_result"
    }
   ],
   "source": [
    "# Method 3: Use the ttest_1samp function from scipy. \n",
    "# Check the documentation [here](https://docs.scipy.org/doc/scipy/reference/generated/scipy.stats.ttest_1samp.html)\n",
    "# Make sure that you have a scipy version >=1.6.0. If that's not your case please ugrade your scipy version using\n",
    "# !pip install -U scipy\n",
    "# Your code here:\n",
    "\n",
    "import scipy.stats as st\n",
    "\n",
    "HourlyWage = data1[data1['Status']== 'FT']['HourlyWage'].sample(30, random_state=1)\n",
    "st.ttest_1samp(HourlyWage,75)"
   ]
  },
  {
   "cell_type": "markdown",
   "metadata": {
    "id": "YvxOReoszSyI"
   },
   "source": [
    "Are all the methods in agreement?"
   ]
  },
  {
   "cell_type": "markdown",
   "metadata": {
    "colab": {
     "base_uri": "https://localhost:8080/"
    },
    "id": "zTcooP57zSyH",
    "outputId": "55834a56-23e4-40f0-8e83-56a40e8eb268"
   },
   "source": [
    "With the 3 methods we accept the null hypothesis. So that the hourly wage of all FT workers is significantly different from $75/hr"
   ]
  },
  {
   "cell_type": "markdown",
   "metadata": {
    "id": "6W3OpLYuzSyI"
   },
   "source": [
    "We are also curious about salaries in the police force. The chief of police in Chicago claimed in a press briefing that salaries this year are **higher than last year's mean of $86000/year for all salaried employees** (use the column \"TotalPayBenefits\". Test  hypothesis using a 95% confidence interval.\n",
    "\n",
    "Hint: Use apply and a lambda function to check in \"Police\" is in the \"JobTitle\" to get all the \"Police\" jobs."
   ]
  },
  {
   "cell_type": "code",
   "execution_count": 25,
   "metadata": {},
   "outputs": [
    {
     "name": "stdout",
     "output_type": "stream",
     "text": [
      "population_mean: 148349.04212519721\n",
      "sample_mean: 158041.32166666666\n",
      "sample_std: 39448.05509087852\n",
      "standard_error: 7202.196540993557\n",
      "t-statistic: 1.3457393846867127\n",
      "critical_value: 1.6991270265334972\n"
     ]
    }
   ],
   "source": [
    "# Your code here: (compute the t_statistic). Take into account that this dataset is a sample of a real population.\n",
    "# Remember that you only need to consider \"Police\" employees\n",
    "\n",
    "#H0: Salaries in police force = $86000\n",
    "#H1: Salaries in police force > $86000\n",
    "\n",
    "# Method 1: Critical value. Get the critical value and compare it against your statisttic.\n",
    "# Your code here: \n",
    "\n",
    "from scipy.stats import t\n",
    "\n",
    "police_jobs = data[data['JobTitle'].apply(lambda x: 'Police' in x)]\n",
    "\n",
    "population_mean = police_jobs['TotalPayBenefits'].mean()\n",
    "sample_size = 30\n",
    "sample_mean = police_jobs['TotalPayBenefits'].sample(30, random_state=1).mean()\n",
    "sample_std = police_jobs['TotalPayBenefits'].sample(30, random_state=1).std()\n",
    "standard_error = sample_std / (sample_size ** 0.5)\n",
    "\n",
    "degrees_of_freedom = sample_size - 1\n",
    "\n",
    "t_statistic = (sample_mean - population_mean) / standard_error\n",
    "\n",
    "alpha = 0.05\n",
    "critical_value = t.ppf(1 - alpha, degrees_of_freedom)\n",
    "\n",
    "print(\"population_mean:\", population_mean)\n",
    "print(\"sample_mean:\", sample_mean)\n",
    "print(\"sample_std:\", sample_std)\n",
    "print(\"standard_error:\", standard_error)\n",
    "print(\"t-statistic:\", t_statistic)\n",
    "print(\"critical_value:\", critical_value)\n"
   ]
  },
  {
   "cell_type": "code",
   "execution_count": 26,
   "metadata": {},
   "outputs": [],
   "source": [
    "# Method 2: Use the p-value method.\n",
    "# Your code here:"
   ]
  },
  {
   "cell_type": "code",
   "execution_count": 27,
   "metadata": {
    "colab": {
     "base_uri": "https://localhost:8080/"
    },
    "id": "zVwWqhkOzSyJ",
    "outputId": "039b9c5f-b817-47ed-d4dc-686673241b9b"
   },
   "outputs": [
    {
     "name": "stdout",
     "output_type": "stream",
     "text": [
      "p-value: 0.09440709956725468\n"
     ]
    }
   ],
   "source": [
    "from scipy.stats import t\n",
    "\n",
    "t_statistic = 1.3457393846867127\n",
    "degrees_of_freedom = 29  \n",
    "\n",
    "p_value = 1 - t.cdf(t_statistic, degrees_of_freedom)\n",
    "\n",
    "print(\"p-value:\", p_value)"
   ]
  },
  {
   "cell_type": "code",
   "execution_count": 28,
   "metadata": {},
   "outputs": [
    {
     "name": "stdout",
     "output_type": "stream",
     "text": [
      "p value (single tailed):  1.6399365619098177e-11\n"
     ]
    }
   ],
   "source": [
    "# Method 3: Use the ttest_1samp function from scipy. \n",
    "# Check the documentation [here](https://docs.scipy.org/doc/scipy/reference/generated/scipy.stats.ttest_1samp.html)\n",
    "# Make sure that you have a scipy version >=1.6.0. If that's not your case please ugrade your scipy version using\n",
    "# !pip install -U scipy\n",
    "# Your code here:\n",
    "import scipy.stats as stats\n",
    "\n",
    "police_jobs = data[data['JobTitle'].apply(lambda x: 'Police' in x)]\n",
    "mean_police_salary = police_jobs['TotalPayBenefits'].sample(30, random_state=1)\n",
    "print('p value (single tailed): ',st.ttest_1samp(mean_police_salary, 86000, alternative=\"greater\")[1]/2)"
   ]
  },
  {
   "cell_type": "markdown",
   "metadata": {
    "colab": {
     "base_uri": "https://localhost:8080/"
    },
    "id": "INGCUoXHzSyJ",
    "outputId": "0add2f05-e1c9-4a2c-c91d-731183b8463e"
   },
   "source": [
    "With the methods 1 and 2 we accept the null hypothesis. But, with the method 3 we reject the null hypothesis, and we accept that salaries in police force are higher than 86,000."
   ]
  },
  {
   "cell_type": "markdown",
   "metadata": {
    "id": "wPCpi313zSyJ"
   },
   "source": [
    "The workers from the \"JobTitle\" with the most employees have complained that their hourly wage is **less than $35/hour**. Using a one sample t-test, test this one-sided hypothesis at the 95% confidence level."
   ]
  },
  {
   "cell_type": "code",
   "execution_count": 29,
   "metadata": {},
   "outputs": [],
   "source": [
    "# Your code here: (Get the department which has most employees)"
   ]
  },
  {
   "cell_type": "code",
   "execution_count": 30,
   "metadata": {
    "colab": {
     "base_uri": "https://localhost:8080/",
     "height": 35
    },
    "id": "m6X0DN4czSyJ",
    "outputId": "ed950bc6-1be7-4df6-be61-977bfb95d375"
   },
   "outputs": [
    {
     "name": "stdout",
     "output_type": "stream",
     "text": [
      "JobTitle\n",
      "Transit Operator                  2479\n",
      "Special Nurse                     1478\n",
      "Registered Nurse                  1234\n",
      "Public Svc Aide-Public Works       916\n",
      "Firefighter                        815\n",
      "                                  ... \n",
      "Marina Associate Manager             1\n",
      "Marina Assistant Manager             1\n",
      "Light Rail Vehicle Equip Eng         1\n",
      "Lieutenant (Police Department)       1\n",
      "Youth Comm Advisor                   1\n",
      "Name: EmployeeName, Length: 996, dtype: int64\n"
     ]
    }
   ],
   "source": [
    "department_counts = data.groupby('JobTitle')['EmployeeName'].count().sort_values(ascending=False)\n",
    "print(department_counts)"
   ]
  },
  {
   "cell_type": "code",
   "execution_count": 31,
   "metadata": {},
   "outputs": [],
   "source": [
    "# Your code here: (compute the t_statistic). Take into account that this dataset is a sample of a real population.\n",
    "# Remember that you only need to consider the right \"JobTitle\" employees"
   ]
  },
  {
   "cell_type": "code",
   "execution_count": 32,
   "metadata": {
    "colab": {
     "base_uri": "https://localhost:8080/"
    },
    "id": "ifyDMFLXzSyJ",
    "outputId": "f350c751-9253-4140-a377-36c8112afc74"
   },
   "outputs": [
    {
     "name": "stdout",
     "output_type": "stream",
     "text": [
      "population_mean: 43.35949773900775\n",
      "sample_mean: 45.87508383333332\n",
      "sample_std: 19.68028627288567\n",
      "standard_error: 3.5931122432729174\n",
      "t-statistic: 0.700113418119707\n",
      "critical_value: 1.6991270265334972\n"
     ]
    }
   ],
   "source": [
    "# The most frequent title is Transit Operator.\n",
    "#H0: Salaries for transit operator = $35/hour\n",
    "#H1: Salaries for transit operator < $35/hour\n",
    "\n",
    "# Method 1: Critical value. Get the critical value and compare it against your statisttic.\n",
    "# Your code here: \n",
    "\n",
    "from scipy.stats import t\n",
    "\n",
    "data2 = data.assign(HourlyWage=data['TotalPayBenefits'] / 2000)\n",
    "transit_operator = data2[data2['JobTitle'].apply(lambda x: 'Transit Operator' in x)]\n",
    "population_mean = transit_operator['HourlyWage'].mean()\n",
    "sample_size = 30\n",
    "sample_mean = transit_operator['HourlyWage'].sample(30, random_state=1).mean()\n",
    "sample_std = transit_operator['HourlyWage'].sample(30, random_state=1).std()\n",
    "standard_error = sample_std / (sample_size ** 0.5)\n",
    "\n",
    "degrees_of_freedom = sample_size - 1\n",
    "\n",
    "t_statistic = (sample_mean - population_mean) / standard_error\n",
    "\n",
    "alpha = 0.05\n",
    "critical_value = t.ppf(1 - alpha, degrees_of_freedom)\n",
    "\n",
    "print(\"population_mean:\", population_mean)\n",
    "print(\"sample_mean:\", sample_mean)\n",
    "print(\"sample_std:\", sample_std)\n",
    "print(\"standard_error:\", standard_error)\n",
    "print(\"t-statistic:\", t_statistic)\n",
    "print(\"critical_value:\", critical_value)"
   ]
  },
  {
   "cell_type": "code",
   "execution_count": 33,
   "metadata": {},
   "outputs": [
    {
     "name": "stdout",
     "output_type": "stream",
     "text": [
      "p-value: 0.24471768597791155\n"
     ]
    }
   ],
   "source": [
    "# Method 2: Use the p-value method.\n",
    "# Your code here:\n",
    "from scipy.stats import t\n",
    "\n",
    "t_statistic = 0.700113418119707\n",
    "degrees_of_freedom = 29  \n",
    "\n",
    "p_value = 1 - t.cdf(t_statistic, degrees_of_freedom)\n",
    "\n",
    "print(\"p-value:\", p_value)"
   ]
  },
  {
   "cell_type": "code",
   "execution_count": 34,
   "metadata": {
    "colab": {
     "base_uri": "https://localhost:8080/"
    },
    "id": "EmIpVMd0zSyK",
    "outputId": "00cb8466-e885-4acb-9015-6d54b61b1c7d"
   },
   "outputs": [],
   "source": [
    "# Method 3: Use the ttest_1samp function from scipy. \n",
    "# Check the documentation [here](https://docs.scipy.org/doc/scipy/reference/generated/scipy.stats.ttest_1samp.html)\n",
    "# Make sure that you have a scipy version >=1.6.0. If that's not your case please ugrade your scipy version using\n",
    "# !pip install -U scipy\n",
    "# Your code here:"
   ]
  },
  {
   "cell_type": "code",
   "execution_count": 35,
   "metadata": {
    "colab": {
     "base_uri": "https://localhost:8080/"
    },
    "id": "lxmOkkIIzSyK",
    "outputId": "989799b7-3304-4954-e268-9b190515eb4b"
   },
   "outputs": [
    {
     "name": "stdout",
     "output_type": "stream",
     "text": [
      "p value (single tailed):  0.4999999999836006\n"
     ]
    }
   ],
   "source": [
    "import scipy.stats as stats\n",
    "\n",
    "transit_operator = data2[data2['JobTitle'].apply(lambda x: 'Transit Operator' in x)]\n",
    "mean_transit_operator = transit_operator['HourlyWage'].sample(30, random_state=1)\n",
    "print('p value (single tailed): ',st.ttest_1samp(mean_police_salary, 86000, alternative=\"less\")[1]/2)"
   ]
  },
  {
   "cell_type": "markdown",
   "metadata": {},
   "source": [
    "With the 3 methods we accept the null hypothesis. So we accept that salaries for transit operators are equal to $35/hour."
   ]
  },
  {
   "cell_type": "markdown",
   "metadata": {
    "id": "ZNtFKSmuzSyK"
   },
   "source": [
    "# Challenge 3: To practice - Constructing Confidence Intervals\n",
    "\n",
    "While testing our hypothesis is a great way to gather empirical evidence for accepting or rejecting the hypothesis, another way to gather evidence is by creating a confidence interval. A confidence interval gives us information about the true mean of the population. So for a 95% confidence interval, we are 95% sure that the mean of the population is within the confidence interval. \n",
    ").\n",
    "\n",
    "To read more about confidence intervals, click [here](https://en.wikipedia.org/wiki/Confidence_interval).\n",
    "\n",
    "\n",
    "In the cell below, we will construct a 95% confidence interval for the mean hourly wage of all hourly workers. \n",
    "\n",
    "To compute the confidence interval of the hourly wage, use the 0.95 for the confidence level."
   ]
  },
  {
   "cell_type": "code",
   "execution_count": 36,
   "metadata": {},
   "outputs": [
    {
     "name": "stdout",
     "output_type": "stream",
     "text": [
      "95% Confidence Interval for Mean Hourly Wage:\n",
      "Lower Bound: 60.32500875462077\n",
      "Upper Bound: 78.20340405992124\n",
      "sample mean: 69.264206407271\n"
     ]
    }
   ],
   "source": [
    "# Your code here:\n",
    "from scipy.stats import t\n",
    "\n",
    "hourly_wage = data1['HourlyWage']\n",
    "\n",
    "sample_mean = hourly_wage.mean()\n",
    "sample_std = hourly_wage.std()\n",
    "sample_size = 30\n",
    "\n",
    "standard_error = sample_std / (sample_size ** 0.5)\n",
    "\n",
    "\n",
    "degrees_of_freedom = sample_size - 1\n",
    "\n",
    "# Calculate critical value for a 95% confidence interval\n",
    "alpha = 0.05\n",
    "critical_value = t.ppf(1 - alpha / 2, degrees_of_freedom)\n",
    "\n",
    "margin_of_error = critical_value * standard_error\n",
    "\n",
    "# Calculate lower and upper bounds of the confidence interval\n",
    "lower_bound = sample_mean - margin_of_error\n",
    "upper_bound = sample_mean + margin_of_error\n",
    "\n",
    "\n",
    "print(\"95% Confidence Interval for Mean Hourly Wage:\")\n",
    "print(\"Lower Bound:\", lower_bound)\n",
    "print(\"Upper Bound:\", upper_bound)\n",
    "print(\"sample mean:\", sample_mean)\n"
   ]
  },
  {
   "cell_type": "markdown",
   "metadata": {
    "id": "K3FbLwVjzSyL"
   },
   "source": [
    "Now compute a 95% confidence interval for the hourly salary of all the Police employees."
   ]
  },
  {
   "cell_type": "code",
   "execution_count": 37,
   "metadata": {},
   "outputs": [
    {
     "name": "stdout",
     "output_type": "stream",
     "text": [
      "95% Confidence Interval for Mean Hourly Wage:\n",
      "Lower Bound: 64.07477537992378\n",
      "Upper Bound: 84.27426674527322\n",
      "sample mean: 74.1745210625985\n"
     ]
    }
   ],
   "source": [
    "# Your code here:\n",
    "from scipy.stats import t\n",
    "\n",
    "police_jobs = data2[data2['JobTitle'].apply(lambda x: 'Police' in x)]\n",
    "salary_police = police_jobs['HourlyWage']\n",
    "\n",
    "sample_mean = salary_police.mean()\n",
    "sample_std = salary_police.std()\n",
    "sample_size = 30\n",
    "\n",
    "standard_error = sample_std / (sample_size ** 0.5)\n",
    "\n",
    "\n",
    "degrees_of_freedom = sample_size - 1\n",
    "\n",
    "# Calculate critical value for a 95% confidence interval\n",
    "alpha = 0.05\n",
    "critical_value = t.ppf(1 - alpha / 2, degrees_of_freedom)\n",
    "\n",
    "margin_of_error = critical_value * standard_error\n",
    "\n",
    "# Calculate lower and upper bounds of the confidence interval\n",
    "lower_bound = sample_mean - margin_of_error\n",
    "upper_bound = sample_mean + margin_of_error\n",
    "\n",
    "\n",
    "print(\"95% Confidence Interval for Mean Hourly Wage:\")\n",
    "print(\"Lower Bound:\", lower_bound)\n",
    "print(\"Upper Bound:\", upper_bound)\n",
    "print(\"sample mean:\", sample_mean)\n"
   ]
  },
  {
   "cell_type": "markdown",
   "metadata": {
    "id": "weFO_tpszSyL"
   },
   "source": [
    "# Chi2 test"
   ]
  },
  {
   "cell_type": "markdown",
   "metadata": {
    "id": "HfCTSUjSzSyL"
   },
   "source": [
    "Now we want to know if the amount of full time \"FT\" and part time \"PT\" employees is equal between Lawers, Meds, Police, Firemen and other departments. \n",
    "\n",
    "Considering all the options in this groups of employees will be very time consuming. To simplify this process, create first a function that returns:\n",
    "\n",
    "* \"Policemen\" if \"Police\" is found on \"JobTitle\"\n",
    "* \"Firemen\" if \"Fire\" is found on \"JobTitle\"\n",
    "* \"Medical\" if \"Med\" or \"Nurse\" is found on \"JobTitle\"\n",
    "* \"Lawyer\" if \"Attorney\" is found on \"JobTitle\"\n",
    "* \"Other\" in any other cases\n",
    "\n",
    "Then, create a new column named \"employee_group\" that determines to which group belong the employee. "
   ]
  },
  {
   "cell_type": "code",
   "execution_count": 38,
   "metadata": {},
   "outputs": [],
   "source": [
    "# Your code here: (Create the function)\n",
    "def categories(title):\n",
    "    if \"Police\" in title:\n",
    "        return \"Policemen\"\n",
    "    elif \"Fire\" in title:\n",
    "        return \"Firemen\"\n",
    "    elif \"Med\" in title or \"Nurse\" in title:\n",
    "        return \"Medical\"\n",
    "    elif \"Attorney\" in title:\n",
    "        return \"Lawyer\"\n",
    "    else:\n",
    "        return \"Other\"\n",
    "\n",
    "data['employee_group'] = data['JobTitle'].apply(lambda x: categories(x))"
   ]
  },
  {
   "cell_type": "code",
   "execution_count": 39,
   "metadata": {},
   "outputs": [
    {
     "data": {
      "text/html": [
       "<div>\n",
       "<style scoped>\n",
       "    .dataframe tbody tr th:only-of-type {\n",
       "        vertical-align: middle;\n",
       "    }\n",
       "\n",
       "    .dataframe tbody tr th {\n",
       "        vertical-align: top;\n",
       "    }\n",
       "\n",
       "    .dataframe thead th {\n",
       "        text-align: right;\n",
       "    }\n",
       "</style>\n",
       "<table border=\"1\" class=\"dataframe\">\n",
       "  <thead>\n",
       "    <tr style=\"text-align: right;\">\n",
       "      <th></th>\n",
       "      <th>Id</th>\n",
       "      <th>EmployeeName</th>\n",
       "      <th>JobTitle</th>\n",
       "      <th>BasePay</th>\n",
       "      <th>OvertimePay</th>\n",
       "      <th>OtherPay</th>\n",
       "      <th>Benefits</th>\n",
       "      <th>TotalPay</th>\n",
       "      <th>TotalPayBenefits</th>\n",
       "      <th>Year</th>\n",
       "      <th>Agency</th>\n",
       "      <th>Status</th>\n",
       "      <th>employee_group</th>\n",
       "    </tr>\n",
       "  </thead>\n",
       "  <tbody>\n",
       "    <tr>\n",
       "      <th>0</th>\n",
       "      <td>110532</td>\n",
       "      <td>David Shinn</td>\n",
       "      <td>Deputy Chief 3</td>\n",
       "      <td>129150.01</td>\n",
       "      <td>0.00</td>\n",
       "      <td>342802.63</td>\n",
       "      <td>38780.04</td>\n",
       "      <td>471952.64</td>\n",
       "      <td>510732.68</td>\n",
       "      <td>2014</td>\n",
       "      <td>San Francisco</td>\n",
       "      <td>PT</td>\n",
       "      <td>Other</td>\n",
       "    </tr>\n",
       "    <tr>\n",
       "      <th>1</th>\n",
       "      <td>110533</td>\n",
       "      <td>Amy P Hart</td>\n",
       "      <td>Asst Med Examiner</td>\n",
       "      <td>318835.49</td>\n",
       "      <td>10712.95</td>\n",
       "      <td>60563.54</td>\n",
       "      <td>89540.23</td>\n",
       "      <td>390111.98</td>\n",
       "      <td>479652.21</td>\n",
       "      <td>2014</td>\n",
       "      <td>San Francisco</td>\n",
       "      <td>FT</td>\n",
       "      <td>Medical</td>\n",
       "    </tr>\n",
       "    <tr>\n",
       "      <th>2</th>\n",
       "      <td>110534</td>\n",
       "      <td>William J Coaker Jr.</td>\n",
       "      <td>Chief Investment Officer</td>\n",
       "      <td>257340.00</td>\n",
       "      <td>0.00</td>\n",
       "      <td>82313.70</td>\n",
       "      <td>96570.66</td>\n",
       "      <td>339653.70</td>\n",
       "      <td>436224.36</td>\n",
       "      <td>2014</td>\n",
       "      <td>San Francisco</td>\n",
       "      <td>PT</td>\n",
       "      <td>Other</td>\n",
       "    </tr>\n",
       "    <tr>\n",
       "      <th>3</th>\n",
       "      <td>110535</td>\n",
       "      <td>Gregory P Suhr</td>\n",
       "      <td>Chief of Police</td>\n",
       "      <td>307450.04</td>\n",
       "      <td>0.00</td>\n",
       "      <td>19266.72</td>\n",
       "      <td>91302.46</td>\n",
       "      <td>326716.76</td>\n",
       "      <td>418019.22</td>\n",
       "      <td>2014</td>\n",
       "      <td>San Francisco</td>\n",
       "      <td>FT</td>\n",
       "      <td>Policemen</td>\n",
       "    </tr>\n",
       "    <tr>\n",
       "      <th>4</th>\n",
       "      <td>110536</td>\n",
       "      <td>Joanne M Hayes-White</td>\n",
       "      <td>Chief, Fire Department</td>\n",
       "      <td>302068.00</td>\n",
       "      <td>0.00</td>\n",
       "      <td>24165.44</td>\n",
       "      <td>91201.66</td>\n",
       "      <td>326233.44</td>\n",
       "      <td>417435.10</td>\n",
       "      <td>2014</td>\n",
       "      <td>San Francisco</td>\n",
       "      <td>FT</td>\n",
       "      <td>Firemen</td>\n",
       "    </tr>\n",
       "    <tr>\n",
       "      <th>...</th>\n",
       "      <td>...</td>\n",
       "      <td>...</td>\n",
       "      <td>...</td>\n",
       "      <td>...</td>\n",
       "      <td>...</td>\n",
       "      <td>...</td>\n",
       "      <td>...</td>\n",
       "      <td>...</td>\n",
       "      <td>...</td>\n",
       "      <td>...</td>\n",
       "      <td>...</td>\n",
       "      <td>...</td>\n",
       "      <td>...</td>\n",
       "    </tr>\n",
       "    <tr>\n",
       "      <th>38114</th>\n",
       "      <td>148646</td>\n",
       "      <td>Carolyn A Wilson</td>\n",
       "      <td>Human Services Technician</td>\n",
       "      <td>0.00</td>\n",
       "      <td>0.00</td>\n",
       "      <td>0.00</td>\n",
       "      <td>0.00</td>\n",
       "      <td>0.00</td>\n",
       "      <td>0.00</td>\n",
       "      <td>2014</td>\n",
       "      <td>San Francisco</td>\n",
       "      <td>PT</td>\n",
       "      <td>Other</td>\n",
       "    </tr>\n",
       "    <tr>\n",
       "      <th>38115</th>\n",
       "      <td>148648</td>\n",
       "      <td>Joann Anderson</td>\n",
       "      <td>Communications Dispatcher 2</td>\n",
       "      <td>0.00</td>\n",
       "      <td>0.00</td>\n",
       "      <td>0.00</td>\n",
       "      <td>0.00</td>\n",
       "      <td>0.00</td>\n",
       "      <td>0.00</td>\n",
       "      <td>2014</td>\n",
       "      <td>San Francisco</td>\n",
       "      <td>PT</td>\n",
       "      <td>Other</td>\n",
       "    </tr>\n",
       "    <tr>\n",
       "      <th>38116</th>\n",
       "      <td>148649</td>\n",
       "      <td>Leon Walker</td>\n",
       "      <td>Custodian</td>\n",
       "      <td>0.00</td>\n",
       "      <td>0.00</td>\n",
       "      <td>0.00</td>\n",
       "      <td>0.00</td>\n",
       "      <td>0.00</td>\n",
       "      <td>0.00</td>\n",
       "      <td>2014</td>\n",
       "      <td>San Francisco</td>\n",
       "      <td>PT</td>\n",
       "      <td>Other</td>\n",
       "    </tr>\n",
       "    <tr>\n",
       "      <th>38117</th>\n",
       "      <td>148650</td>\n",
       "      <td>Roy I Tillery</td>\n",
       "      <td>Custodian</td>\n",
       "      <td>0.00</td>\n",
       "      <td>0.00</td>\n",
       "      <td>0.00</td>\n",
       "      <td>0.00</td>\n",
       "      <td>0.00</td>\n",
       "      <td>0.00</td>\n",
       "      <td>2014</td>\n",
       "      <td>San Francisco</td>\n",
       "      <td>PT</td>\n",
       "      <td>Other</td>\n",
       "    </tr>\n",
       "    <tr>\n",
       "      <th>38118</th>\n",
       "      <td>148654</td>\n",
       "      <td>Joe Lopez</td>\n",
       "      <td>Counselor, Log Cabin Ranch</td>\n",
       "      <td>0.00</td>\n",
       "      <td>0.00</td>\n",
       "      <td>-618.13</td>\n",
       "      <td>0.00</td>\n",
       "      <td>-618.13</td>\n",
       "      <td>-618.13</td>\n",
       "      <td>2014</td>\n",
       "      <td>San Francisco</td>\n",
       "      <td>PT</td>\n",
       "      <td>Other</td>\n",
       "    </tr>\n",
       "  </tbody>\n",
       "</table>\n",
       "<p>38119 rows × 13 columns</p>\n",
       "</div>"
      ],
      "text/plain": [
       "           Id          EmployeeName                     JobTitle    BasePay  \\\n",
       "0      110532           David Shinn               Deputy Chief 3  129150.01   \n",
       "1      110533            Amy P Hart            Asst Med Examiner  318835.49   \n",
       "2      110534  William J Coaker Jr.     Chief Investment Officer  257340.00   \n",
       "3      110535        Gregory P Suhr              Chief of Police  307450.04   \n",
       "4      110536  Joanne M Hayes-White       Chief, Fire Department  302068.00   \n",
       "...       ...                   ...                          ...        ...   \n",
       "38114  148646      Carolyn A Wilson    Human Services Technician       0.00   \n",
       "38115  148648        Joann Anderson  Communications Dispatcher 2       0.00   \n",
       "38116  148649           Leon Walker                    Custodian       0.00   \n",
       "38117  148650         Roy I Tillery                    Custodian       0.00   \n",
       "38118  148654             Joe Lopez   Counselor, Log Cabin Ranch       0.00   \n",
       "\n",
       "       OvertimePay   OtherPay  Benefits   TotalPay  TotalPayBenefits  Year  \\\n",
       "0             0.00  342802.63  38780.04  471952.64         510732.68  2014   \n",
       "1         10712.95   60563.54  89540.23  390111.98         479652.21  2014   \n",
       "2             0.00   82313.70  96570.66  339653.70         436224.36  2014   \n",
       "3             0.00   19266.72  91302.46  326716.76         418019.22  2014   \n",
       "4             0.00   24165.44  91201.66  326233.44         417435.10  2014   \n",
       "...            ...        ...       ...        ...               ...   ...   \n",
       "38114         0.00       0.00      0.00       0.00              0.00  2014   \n",
       "38115         0.00       0.00      0.00       0.00              0.00  2014   \n",
       "38116         0.00       0.00      0.00       0.00              0.00  2014   \n",
       "38117         0.00       0.00      0.00       0.00              0.00  2014   \n",
       "38118         0.00    -618.13      0.00    -618.13           -618.13  2014   \n",
       "\n",
       "              Agency Status employee_group  \n",
       "0      San Francisco     PT          Other  \n",
       "1      San Francisco     FT        Medical  \n",
       "2      San Francisco     PT          Other  \n",
       "3      San Francisco     FT      Policemen  \n",
       "4      San Francisco     FT        Firemen  \n",
       "...              ...    ...            ...  \n",
       "38114  San Francisco     PT          Other  \n",
       "38115  San Francisco     PT          Other  \n",
       "38116  San Francisco     PT          Other  \n",
       "38117  San Francisco     PT          Other  \n",
       "38118  San Francisco     PT          Other  \n",
       "\n",
       "[38119 rows x 13 columns]"
      ]
     },
     "execution_count": 39,
     "metadata": {},
     "output_type": "execute_result"
    }
   ],
   "source": [
    "data"
   ]
  },
  {
   "cell_type": "markdown",
   "metadata": {
    "id": "TPCdBgKezSyM"
   },
   "source": [
    "Determine how many \"PT\" and \"FT\" employess have all the employees groups."
   ]
  },
  {
   "cell_type": "code",
   "execution_count": 40,
   "metadata": {},
   "outputs": [
    {
     "data": {
      "text/html": [
       "<div>\n",
       "<style scoped>\n",
       "    .dataframe tbody tr th:only-of-type {\n",
       "        vertical-align: middle;\n",
       "    }\n",
       "\n",
       "    .dataframe tbody tr th {\n",
       "        vertical-align: top;\n",
       "    }\n",
       "\n",
       "    .dataframe thead th {\n",
       "        text-align: right;\n",
       "    }\n",
       "</style>\n",
       "<table border=\"1\" class=\"dataframe\">\n",
       "  <thead>\n",
       "    <tr style=\"text-align: right;\">\n",
       "      <th>Status</th>\n",
       "      <th>FT</th>\n",
       "      <th>PT</th>\n",
       "    </tr>\n",
       "    <tr>\n",
       "      <th>employee_group</th>\n",
       "      <th></th>\n",
       "      <th></th>\n",
       "    </tr>\n",
       "  </thead>\n",
       "  <tbody>\n",
       "    <tr>\n",
       "      <th>Firemen</th>\n",
       "      <td>1333</td>\n",
       "      <td>178</td>\n",
       "    </tr>\n",
       "    <tr>\n",
       "      <th>Lawyer</th>\n",
       "      <td>317</td>\n",
       "      <td>102</td>\n",
       "    </tr>\n",
       "    <tr>\n",
       "      <th>Medical</th>\n",
       "      <td>1028</td>\n",
       "      <td>2889</td>\n",
       "    </tr>\n",
       "    <tr>\n",
       "      <th>Other</th>\n",
       "      <td>18126</td>\n",
       "      <td>12245</td>\n",
       "    </tr>\n",
       "    <tr>\n",
       "      <th>Policemen</th>\n",
       "      <td>1530</td>\n",
       "      <td>371</td>\n",
       "    </tr>\n",
       "  </tbody>\n",
       "</table>\n",
       "</div>"
      ],
      "text/plain": [
       "Status             FT     PT\n",
       "employee_group              \n",
       "Firemen          1333    178\n",
       "Lawyer            317    102\n",
       "Medical          1028   2889\n",
       "Other           18126  12245\n",
       "Policemen        1530    371"
      ]
     },
     "execution_count": 40,
     "metadata": {},
     "output_type": "execute_result"
    }
   ],
   "source": [
    "# Your code here: (Store the output dataframe into a new variable)\n",
    "employee_counts = data.groupby(['employee_group', 'Status']).size().unstack()\n",
    "\n",
    "employee_per_status = employee_counts.copy()\n",
    "\n",
    "employee_per_status"
   ]
  },
  {
   "cell_type": "markdown",
   "metadata": {
    "id": "CJb-kx-7zSyM"
   },
   "source": [
    "Now try compute the expected frequencies doing the calculations with the individual probabilities. Remember that the Chi2 test assumes that both variables (employee_group and FT/PT) are not related (therefore they are independent). Therefore, to compute the expected frequencies you need to compute the probability of each cell and multiply it by the number of observations. ie:\n",
    "\n",
    "$$\\nu(x,y) = p(x,y) * N = p(x) * p(y) * N$$\n",
    "\n",
    "bear in mind that in general: $p(x,y)\\neq p(x)*p(y)$; the equality will only be true if x and y are independent. However, the null hypotheses says that **x and y are independent.** but that's what we're assuming with the null hypotheses.\n",
    "\n",
    "where \"x\" is the \"employee_group\" and \"y\" the (FT/PT). "
   ]
  },
  {
   "cell_type": "code",
   "execution_count": 41,
   "metadata": {},
   "outputs": [
    {
     "data": {
      "text/html": [
       "<div>\n",
       "<style scoped>\n",
       "    .dataframe tbody tr th:only-of-type {\n",
       "        vertical-align: middle;\n",
       "    }\n",
       "\n",
       "    .dataframe tbody tr th {\n",
       "        vertical-align: top;\n",
       "    }\n",
       "\n",
       "    .dataframe thead th {\n",
       "        text-align: right;\n",
       "    }\n",
       "</style>\n",
       "<table border=\"1\" class=\"dataframe\">\n",
       "  <thead>\n",
       "    <tr style=\"text-align: right;\">\n",
       "      <th></th>\n",
       "      <th>FT</th>\n",
       "      <th>PT</th>\n",
       "      <th>FT_freq</th>\n",
       "      <th>PT_freq</th>\n",
       "    </tr>\n",
       "    <tr>\n",
       "      <th>employee_group</th>\n",
       "      <th></th>\n",
       "      <th></th>\n",
       "      <th></th>\n",
       "      <th></th>\n",
       "    </tr>\n",
       "  </thead>\n",
       "  <tbody>\n",
       "    <tr>\n",
       "      <th>Firemen</th>\n",
       "      <td>0.034969</td>\n",
       "      <td>0.004670</td>\n",
       "      <td>46.614261</td>\n",
       "      <td>0.831187</td>\n",
       "    </tr>\n",
       "    <tr>\n",
       "      <th>Lawyer</th>\n",
       "      <td>0.008316</td>\n",
       "      <td>0.002676</td>\n",
       "      <td>2.636192</td>\n",
       "      <td>0.272935</td>\n",
       "    </tr>\n",
       "    <tr>\n",
       "      <th>Medical</th>\n",
       "      <td>0.026968</td>\n",
       "      <td>0.075789</td>\n",
       "      <td>27.723288</td>\n",
       "      <td>218.954353</td>\n",
       "    </tr>\n",
       "    <tr>\n",
       "      <th>Other</th>\n",
       "      <td>0.475511</td>\n",
       "      <td>0.321231</td>\n",
       "      <td>8619.110575</td>\n",
       "      <td>3933.472153</td>\n",
       "    </tr>\n",
       "    <tr>\n",
       "      <th>Policemen</th>\n",
       "      <td>0.040137</td>\n",
       "      <td>0.009733</td>\n",
       "      <td>61.410320</td>\n",
       "      <td>3.610824</td>\n",
       "    </tr>\n",
       "  </tbody>\n",
       "</table>\n",
       "</div>"
      ],
      "text/plain": [
       "                      FT        PT      FT_freq      PT_freq\n",
       "employee_group                                              \n",
       "Firemen         0.034969  0.004670    46.614261     0.831187\n",
       "Lawyer          0.008316  0.002676     2.636192     0.272935\n",
       "Medical         0.026968  0.075789    27.723288   218.954353\n",
       "Other           0.475511  0.321231  8619.110575  3933.472153\n",
       "Policemen       0.040137  0.009733    61.410320     3.610824"
      ]
     },
     "metadata": {},
     "output_type": "display_data"
    }
   ],
   "source": [
    "# Create an empty dataframe named \"frequencies\" to store the data.\n",
    "# Your code here:\n",
    "\n",
    "probabilities = pd.DataFrame({\n",
    "    'FT': employee_per_status['FT'] / (sum(employee_per_status['FT']) + sum(employee_per_status['PT'])),\n",
    "    'PT': employee_per_status['PT'] / (sum(employee_per_status['FT']) + sum(employee_per_status['PT']))\n",
    "})\n",
    "frequencies = pd.DataFrame({\n",
    "    'FT_freq': employee_per_status['FT'] * probabilities['FT'],\n",
    "    'PT_freq': employee_per_status['PT'] * probabilities['PT']\n",
    "})\n",
    "\n",
    "frequencies = pd.concat([probabilities, frequencies], axis=1)\n",
    "display(frequencies)\n",
    "\n",
    "# In the next points I just add the result, because the code is this."
   ]
  },
  {
   "cell_type": "code",
   "execution_count": 42,
   "metadata": {},
   "outputs": [],
   "source": [
    "# Your code here: Compute Expected frequency of being \"Firemen\" and \"FT\". Store the solution in a variable named \"firemen_ft\""
   ]
  },
  {
   "cell_type": "markdown",
   "metadata": {
    "colab": {
     "base_uri": "https://localhost:8080/"
    },
    "id": "1ld-NVuczSyN",
    "outputId": "8f4e0114-77c2-446b-f02f-bc5440b3fb9a"
   },
   "source": [
    "46.614261"
   ]
  },
  {
   "cell_type": "code",
   "execution_count": 43,
   "metadata": {},
   "outputs": [],
   "source": [
    "# Your code here: Compute Expected frequency of being \"Firemen\" and \"PT\". Store the solution in a variable named \"firemen_pt\""
   ]
  },
  {
   "cell_type": "markdown",
   "metadata": {
    "colab": {
     "base_uri": "https://localhost:8080/"
    },
    "id": "RUp3VAXIzSyN",
    "outputId": "f20f5b9b-62fe-48b9-9638-a609464a0a06"
   },
   "source": [
    "0.831187"
   ]
  },
  {
   "cell_type": "code",
   "execution_count": 44,
   "metadata": {},
   "outputs": [],
   "source": [
    "# Your code here: Compute Expected frequency of being \"Lawyers\" and \"FT\". Store the solution in a variable named \"lawyers_ft\""
   ]
  },
  {
   "cell_type": "markdown",
   "metadata": {
    "colab": {
     "base_uri": "https://localhost:8080/"
    },
    "id": "5zTnWHxdzSyN",
    "outputId": "fa3db9aa-9fbb-482e-f35a-13fa9e605405"
   },
   "source": [
    "2.636192"
   ]
  },
  {
   "cell_type": "code",
   "execution_count": 45,
   "metadata": {},
   "outputs": [],
   "source": [
    "# Your code here: Compute Expected frequency of being \"Lawyers\" and \"PT\". Store the solution in a variable named \"lawyers_pt\""
   ]
  },
  {
   "cell_type": "markdown",
   "metadata": {
    "colab": {
     "base_uri": "https://localhost:8080/"
    },
    "id": "f_E2hWy7zSyN",
    "outputId": "0589a145-35fb-4441-c5e8-32bce904e01a"
   },
   "source": [
    "0.272935"
   ]
  },
  {
   "cell_type": "code",
   "execution_count": 46,
   "metadata": {},
   "outputs": [],
   "source": [
    "# Your code here: Compute Expected frequency of being \"Medical\" and \"FT\". Store the solution in a variable named \"medical_ft\""
   ]
  },
  {
   "cell_type": "markdown",
   "metadata": {
    "colab": {
     "base_uri": "https://localhost:8080/"
    },
    "id": "TJSVxXMlzSyN",
    "outputId": "4731e0ca-028d-4582-fc75-772b2e3644b2"
   },
   "source": [
    "27.723288"
   ]
  },
  {
   "cell_type": "code",
   "execution_count": 47,
   "metadata": {},
   "outputs": [],
   "source": [
    "# Your code here: Compute Expected frequency of being \"Medical\" and \"PT\". Store the solution in a variable named \"medical_pt\""
   ]
  },
  {
   "cell_type": "markdown",
   "metadata": {
    "colab": {
     "base_uri": "https://localhost:8080/"
    },
    "id": "6JDp8KxyzSyO",
    "outputId": "7cf6a30a-5a80-4c47-f38b-c51e98025b48"
   },
   "source": [
    "218.954353"
   ]
  },
  {
   "cell_type": "code",
   "execution_count": 48,
   "metadata": {},
   "outputs": [],
   "source": [
    "# Your code here: Compute Expected frequency of being \"Other\" and \"FT\". Store the solution in a variable named \"other_ft\""
   ]
  },
  {
   "cell_type": "markdown",
   "metadata": {
    "colab": {
     "base_uri": "https://localhost:8080/"
    },
    "id": "Faj2vgrazSyO",
    "outputId": "bcc9b61f-abf7-44b4-9cc4-57c34f4559b3"
   },
   "source": [
    "8619.110575"
   ]
  },
  {
   "cell_type": "code",
   "execution_count": 49,
   "metadata": {},
   "outputs": [],
   "source": [
    "# Your code here: Compute Expected frequency of being \"Other\" and \"PT\". Store the solution in a variable named \"other_pt\""
   ]
  },
  {
   "cell_type": "markdown",
   "metadata": {
    "colab": {
     "base_uri": "https://localhost:8080/"
    },
    "id": "kmAMpPFyzSyO",
    "outputId": "0de568d8-d0db-471f-bc60-2ddc65cb5e54"
   },
   "source": [
    "3933.472153"
   ]
  },
  {
   "cell_type": "code",
   "execution_count": 50,
   "metadata": {},
   "outputs": [],
   "source": [
    "# Your code here: Compute Expected frequency of being \"Policement\" and \"FT\". Store the solution in a variable named \"policemen_ft\""
   ]
  },
  {
   "cell_type": "markdown",
   "metadata": {
    "colab": {
     "base_uri": "https://localhost:8080/"
    },
    "id": "yUyhx_IezSyO",
    "outputId": "9f9bfaae-d402-4e04-8863-e3ff2bf63ac9"
   },
   "source": [
    "61.410320"
   ]
  },
  {
   "cell_type": "code",
   "execution_count": 51,
   "metadata": {},
   "outputs": [],
   "source": [
    "# Your code here: Compute Expected frequency of being \"Policement\" and \"PT\". Store the solution in a variable named \"policemen_pt\""
   ]
  },
  {
   "cell_type": "markdown",
   "metadata": {
    "colab": {
     "base_uri": "https://localhost:8080/"
    },
    "id": "xU9CcKJSzSyO",
    "outputId": "c19fc385-8048-4f47-9397-46d416f1ffdf"
   },
   "source": [
    "3.610824"
   ]
  },
  {
   "cell_type": "markdown",
   "metadata": {
    "id": "XRuFEP-WzSyO"
   },
   "source": [
    "* Store all the expected frequencies of \"FT\" employees in a list \n",
    "* Store all the \"PT\" employees into another list\n",
    "* Create a dictionary with \"FT\" and \"PT\" as keys and as the values use the previous lists\n",
    "* Create a dataframe with this dictionary using pd.DataFrame()"
   ]
  },
  {
   "cell_type": "code",
   "execution_count": 52,
   "metadata": {},
   "outputs": [],
   "source": [
    "# Your code here:\n",
    "\n",
    "# Store expected frequencies of \"FT\" employees in a list\n",
    "ft_expected_freq = employee_per_status['FT'] * probabilities['FT']"
   ]
  },
  {
   "cell_type": "code",
   "execution_count": 53,
   "metadata": {
    "colab": {
     "base_uri": "https://localhost:8080/",
     "height": 206
    },
    "id": "g6Otm4XUzSyO",
    "outputId": "7bbf7a53-e947-4137-8f03-35fb3b9cc3ee"
   },
   "outputs": [],
   "source": [
    "# Store \"PT\" employees in another list\n",
    "pt_expected_freq = employee_per_status['PT'] * probabilities['PT']\n"
   ]
  },
  {
   "cell_type": "code",
   "execution_count": 54,
   "metadata": {},
   "outputs": [],
   "source": [
    "# Create a dictionary with \"FT\" and \"PT\" as keys and the lists as values\n",
    "expected_freq_dict = {'FT': ft_expected_freq.tolist(), 'PT': pt_expected_freq.tolist()}"
   ]
  },
  {
   "cell_type": "code",
   "execution_count": 55,
   "metadata": {},
   "outputs": [
    {
     "data": {
      "text/html": [
       "<div>\n",
       "<style scoped>\n",
       "    .dataframe tbody tr th:only-of-type {\n",
       "        vertical-align: middle;\n",
       "    }\n",
       "\n",
       "    .dataframe tbody tr th {\n",
       "        vertical-align: top;\n",
       "    }\n",
       "\n",
       "    .dataframe thead th {\n",
       "        text-align: right;\n",
       "    }\n",
       "</style>\n",
       "<table border=\"1\" class=\"dataframe\">\n",
       "  <thead>\n",
       "    <tr style=\"text-align: right;\">\n",
       "      <th></th>\n",
       "      <th>FT</th>\n",
       "      <th>PT</th>\n",
       "    </tr>\n",
       "  </thead>\n",
       "  <tbody>\n",
       "    <tr>\n",
       "      <th>0</th>\n",
       "      <td>46.614261</td>\n",
       "      <td>0.831187</td>\n",
       "    </tr>\n",
       "    <tr>\n",
       "      <th>1</th>\n",
       "      <td>2.636192</td>\n",
       "      <td>0.272935</td>\n",
       "    </tr>\n",
       "    <tr>\n",
       "      <th>2</th>\n",
       "      <td>27.723288</td>\n",
       "      <td>218.954353</td>\n",
       "    </tr>\n",
       "    <tr>\n",
       "      <th>3</th>\n",
       "      <td>8619.110575</td>\n",
       "      <td>3933.472153</td>\n",
       "    </tr>\n",
       "    <tr>\n",
       "      <th>4</th>\n",
       "      <td>61.410320</td>\n",
       "      <td>3.610824</td>\n",
       "    </tr>\n",
       "  </tbody>\n",
       "</table>\n",
       "</div>"
      ],
      "text/plain": [
       "            FT           PT\n",
       "0    46.614261     0.831187\n",
       "1     2.636192     0.272935\n",
       "2    27.723288   218.954353\n",
       "3  8619.110575  3933.472153\n",
       "4    61.410320     3.610824"
      ]
     },
     "metadata": {},
     "output_type": "display_data"
    }
   ],
   "source": [
    "# Create a dataframe with the dictionary\n",
    "frequencies = pd.DataFrame(expected_freq_dict)\n",
    "# Display the dataframe\n",
    "display(frequencies)"
   ]
  },
  {
   "cell_type": "markdown",
   "metadata": {
    "id": "serVGf6HzSyP"
   },
   "source": [
    "Now use the \"st.chi2_contingency()\" from scipy.stats [documentation here](https://docs.scipy.org/doc/scipy/reference/generated/scipy.stats.chi2_contingency.html) to conduct a Chi2 test to determine if the diferences between employee groups are statistically significant using a 95% confidence level. Hint: fill the function with a dataframe of actual frequencies."
   ]
  },
  {
   "cell_type": "code",
   "execution_count": 56,
   "metadata": {},
   "outputs": [],
   "source": [
    "# Your code here: (use the st.chi2_contingency() function from scipy.stats to compute:\n",
    "# The Chi2 value\n",
    "# The p-valueYea we \n",
    "# The expected frequencies.\n",
    "# Ho: there is no relationship\n",
    "# Ha: there is relationship differences\n",
    "# p_value = P(table | Ho) = P(table | no relationship) = 1.51e-6 < 0.05"
   ]
  },
  {
   "cell_type": "code",
   "execution_count": 57,
   "metadata": {
    "colab": {
     "base_uri": "https://localhost:8080/"
    },
    "id": "xJ4eZt7UzSyP",
    "outputId": "8c3e8264-fa84-4046-b582-09283ac78611"
   },
   "outputs": [
    {
     "name": "stdout",
     "output_type": "stream",
     "text": [
      "Chi-square statistic: 2676.642333711905\n",
      "Degrees of freedom: 4\n",
      "p-value: 0.0\n"
     ]
    }
   ],
   "source": [
    "import scipy.stats as stats\n",
    "from scipy.stats import chi2_contingency\n",
    "\n",
    "chi2_stat, p_value, dof, expected_chi2 = stats.chi2_contingency(employee_per_status)\n",
    "\n",
    "print(\"Chi-square statistic:\", chi2_stat)\n",
    "print(\"Degrees of freedom:\", dof)\n",
    "print(\"p-value:\", p_value)\n"
   ]
  },
  {
   "cell_type": "markdown",
   "metadata": {
    "id": "HAlxWZjOzSyP"
   },
   "source": [
    "Check if your expected frequencies aggree with the ones obtained with the st.chi2_contingency() function"
   ]
  },
  {
   "cell_type": "code",
   "execution_count": 59,
   "metadata": {
    "id": "AbQbrku9zSyP"
   },
   "outputs": [
    {
     "name": "stdout",
     "output_type": "stream",
     "text": [
      "Expected Frequencies:\n",
      "                     FT_freq       PT_freq\n",
      "employee_group                            \n",
      "Firemen           885.297988    625.702012\n",
      "Lawyer            245.492956    173.507044\n",
      "Medical          2294.978305   1622.021695\n",
      "Other           17794.430966  12576.569034\n",
      "Policemen        1113.799785    787.200215\n",
      "\n",
      "Expected Frequencies from chi2_contingency():\n",
      "                     FT_freq       PT_freq\n",
      "employee_group                            \n",
      "Firemen           885.297988    625.702012\n",
      "Lawyer            245.492956    173.507044\n",
      "Medical          2294.978305   1622.021695\n",
      "Other           17794.430966  12576.569034\n",
      "Policemen        1113.799785    787.200215\n"
     ]
    }
   ],
   "source": [
    "expected_freq_df = pd.DataFrame(expected_chi2, index=employee_per_status.index, columns=['FT_freq', 'PT_freq'])\n",
    "\n",
    "# Compare expected frequencies\n",
    "print(\"Expected Frequencies:\")\n",
    "print(expected_freq_df)\n",
    "print(\"\\nExpected Frequencies from chi2_contingency():\")\n",
    "print(pd.DataFrame(expected_chi2, index=employee_per_status.index, columns=['FT_freq', 'PT_freq']))\n"
   ]
  },
  {
   "cell_type": "code",
   "execution_count": null,
   "metadata": {},
   "outputs": [],
   "source": []
  }
 ],
 "metadata": {
  "colab": {
   "name": "main_solutions.ipynb",
   "provenance": [],
   "toc_visible": true
  },
  "kernelspec": {
   "display_name": "Python 3 (ipykernel)",
   "language": "python",
   "name": "python3"
  },
  "language_info": {
   "codemirror_mode": {
    "name": "ipython",
    "version": 3
   },
   "file_extension": ".py",
   "mimetype": "text/x-python",
   "name": "python",
   "nbconvert_exporter": "python",
   "pygments_lexer": "ipython3",
   "version": "3.9.13"
  }
 },
 "nbformat": 4,
 "nbformat_minor": 1
}
